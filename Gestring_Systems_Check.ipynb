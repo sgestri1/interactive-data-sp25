{
 "cells": [
  {
   "cell_type": "markdown",
   "id": "00352f26-2aaa-41c6-963a-b82671d3f0e6",
   "metadata": {},
   "source": [
    "# Systems Check\n",
    "## Serena Gestring - 1/19/25"
   ]
  },
  {
   "cell_type": "markdown",
   "id": "e64ee8f7-0e87-4c46-b338-96a4543c57d4",
   "metadata": {},
   "source": [
    "### What I Hope to Get Out of This Class\n",
    "\n",
    "My main career goal is to become a web developer, focusing on the accessability, usability, and overall user experience of the websites I create. The field of data is generally not my strong suit and is not where my main focus has been in my studies, **but I do believe there is ample I can get out of this class that I can apply in my future career**.\n",
    "\n",
    "1. First and foremost I hope to *refresh the basics* of python and data visualization/analysis skills I developed in the undergradute Data in EMAT class I took two years ago.\n",
    "2. Additionally, I want to *build upon that foundation* by learning more advanced concepts and skills in data visualization/analysis.\n",
    "3. Finally, I am looking forward to the practice of *defending/justifying the decisions* I make in my assignments, and defending why a certain decision should be made based on the data I've analyzed.\n",
    "\n",
    "To elaborate on the last point: When I make decisions in my career, such as the design of a specific feature on a website, I need to be able to justify why I made the choices I did. Also, I may use web analytics as evidence for reccommended changes to a website's features, organization, design, etc., to improve some metric or aspect of user experience. Therefore, I will need to be proficient in my communications skills in order to effectively communitcate this informaion to the necessary stakeholders (my team, my boss, the client, etc.). \n",
    "\n",
    "The point is that while I am not pursuing a career in data itself,  these principles and skills will still be **beneficial to my growth** as a web development professional. \n",
    "\n",
    "![](https://i1.pickpik.com/photos/840/692/934/code-html-digital-coding-preview.jpg)\n",
    "Image Credit: PickPik: Royalty-Free Photos"
   ]
  },
  {
   "cell_type": "markdown",
   "id": "fe56e8a1-a118-4541-8338-399cf4cca5a9",
   "metadata": {},
   "source": [
    "### Syntax: Variable Assignment"
   ]
  },
  {
   "cell_type": "code",
   "execution_count": 1,
   "id": "69ec2302-749f-4c7e-84d7-95fa60a25dda",
   "metadata": {},
   "outputs": [
    {
     "data": {
      "text/plain": [
       "208"
      ]
     },
     "execution_count": 1,
     "metadata": {},
     "output_type": "execute_result"
    }
   ],
   "source": [
    "s = [21, 208, 61]\n",
    "s[1]"
   ]
  },
  {
   "cell_type": "code",
   "execution_count": 2,
   "id": "249af593-8b1b-4014-8d9b-741d708c0b90",
   "metadata": {},
   "outputs": [],
   "source": [
    "a = \"pet\""
   ]
  },
  {
   "cell_type": "code",
   "execution_count": 3,
   "id": "30d47ce2-6875-4da3-a36d-f06d5920be9a",
   "metadata": {},
   "outputs": [],
   "source": [
    "b = \"all\""
   ]
  },
  {
   "cell_type": "code",
   "execution_count": 4,
   "id": "d5ebf9be-a69b-45c6-8cd1-31a0e8946159",
   "metadata": {},
   "outputs": [],
   "source": [
    "c = \"dogs\""
   ]
  },
  {
   "cell_type": "code",
   "execution_count": 5,
   "id": "b5a419b1-0f5b-4758-bd5d-96345d824d7c",
   "metadata": {},
   "outputs": [
    {
     "name": "stdout",
     "output_type": "stream",
     "text": [
      "petalldogs\n"
     ]
    }
   ],
   "source": [
    "print (a + b + c)"
   ]
  },
  {
   "cell_type": "markdown",
   "id": "3083cfb3-850b-4c2f-826b-579e3ce2fdc4",
   "metadata": {},
   "source": [
    "### Syntax: Functions (Print and Return)"
   ]
  },
  {
   "cell_type": "code",
   "execution_count": 6,
   "id": "11d663a1-84bb-4c1a-8b41-aebc364501aa",
   "metadata": {},
   "outputs": [],
   "source": [
    "def say_ope():\n",
    "    print('Ope')"
   ]
  },
  {
   "cell_type": "code",
   "execution_count": 7,
   "id": "16190225-96f1-4e01-a527-d3d6e943ea6e",
   "metadata": {},
   "outputs": [
    {
     "name": "stdout",
     "output_type": "stream",
     "text": [
      "Ope\n"
     ]
    }
   ],
   "source": [
    "say_ope()"
   ]
  },
  {
   "cell_type": "code",
   "execution_count": 8,
   "id": "c35c5d8f-0bec-420f-ab54-f2b076a8fbf8",
   "metadata": {},
   "outputs": [],
   "source": [
    "def say_forsure():\n",
    "    return 'Oh yeah no for sure'"
   ]
  },
  {
   "cell_type": "code",
   "execution_count": 9,
   "id": "a14bb7fd-ae5a-41e5-9d01-51897c28a550",
   "metadata": {},
   "outputs": [
    {
     "data": {
      "text/plain": [
       "'Oh yeah no for sure'"
      ]
     },
     "execution_count": 9,
     "metadata": {},
     "output_type": "execute_result"
    }
   ],
   "source": [
    "say_forsure()"
   ]
  },
  {
   "cell_type": "code",
   "execution_count": 10,
   "id": "d3647ee2-0dbc-4249-b8e5-34bf7b01f2c4",
   "metadata": {},
   "outputs": [
    {
     "name": "stdout",
     "output_type": "stream",
     "text": [
      "Ope\n"
     ]
    }
   ],
   "source": [
    "midwesterner1 = say_ope()\n",
    "midwesterner1\n",
    "midwesterner2= say_forsure()"
   ]
  },
  {
   "cell_type": "code",
   "execution_count": 11,
   "id": "3a68e6d8-6370-4c1d-bd77-cb99fe641c9b",
   "metadata": {},
   "outputs": [
    {
     "data": {
      "text/plain": [
       "'Oh yeah no for sure'"
      ]
     },
     "execution_count": 11,
     "metadata": {},
     "output_type": "execute_result"
    }
   ],
   "source": [
    "midwesterner2"
   ]
  },
  {
   "cell_type": "markdown",
   "id": "ee9272e9-fc56-4b14-908d-f0bfff96194d",
   "metadata": {},
   "source": [
    "### Syntax: For Loop"
   ]
  },
  {
   "cell_type": "code",
   "execution_count": 12,
   "id": "24f503b2-56d6-4b57-84a0-25830a4830e8",
   "metadata": {},
   "outputs": [
    {
     "name": "stdout",
     "output_type": "stream",
     "text": [
      "o\n",
      "c\n",
      "t\n",
      "o\n",
      "p\n",
      "u\n",
      "s\n"
     ]
    }
   ],
   "source": [
    "for o in 'octopus':\n",
    "    print(o)"
   ]
  },
  {
   "cell_type": "code",
   "execution_count": 13,
   "id": "b59c8b9d-3473-4ee5-88ca-ee6200c7415b",
   "metadata": {},
   "outputs": [
    {
     "name": "stdout",
     "output_type": "stream",
     "text": [
      "2.5\n",
      "5.0\n",
      "7.5\n",
      "10.0\n",
      "12.5\n"
     ]
    }
   ],
   "source": [
    "for e in [1,2,3,4,5]:\n",
    "    j = 5*e/2\n",
    "    print(j)"
   ]
  }
 ],
 "metadata": {
  "kernelspec": {
   "display_name": "Python 3 (ipykernel)",
   "language": "python",
   "name": "python3"
  },
  "language_info": {
   "codemirror_mode": {
    "name": "ipython",
    "version": 3
   },
   "file_extension": ".py",
   "mimetype": "text/x-python",
   "name": "python",
   "nbconvert_exporter": "python",
   "pygments_lexer": "ipython3",
   "version": "3.12.8"
  }
 },
 "nbformat": 4,
 "nbformat_minor": 5
}
