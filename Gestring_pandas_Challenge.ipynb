{
 "cells": [
  {
   "cell_type": "markdown",
   "id": "7e26bf5d-a9e0-4ba2-bdd5-5ed0e53fcd23",
   "metadata": {},
   "source": [
    "# pandas Challenge\n",
    "\n",
    "## Serena Gestring - 1/25/25"
   ]
  },
  {
   "cell_type": "markdown",
   "id": "42c5f48b-ec4c-4218-a799-fb77fa35f3de",
   "metadata": {},
   "source": [
    "### Import pandas and Create New DataFrame"
   ]
  },
  {
   "cell_type": "code",
   "execution_count": 1,
   "id": "5086e258-f70f-42a2-8bb1-179f4440a3f2",
   "metadata": {},
   "outputs": [],
   "source": [
    "import pandas as pd"
   ]
  },
  {
   "cell_type": "markdown",
   "id": "84942e27-b71a-462a-8910-7122011097f2",
   "metadata": {},
   "source": [
    "This first DataFrame is a dictionary of lists. The first list (variable a) contains abbreviated days of the week; the second list (variable b) contains number values representing degrees of temperature; and the third list (variable c) contains number values representing percentages of humidity. I put these lists into a dictionary so that the DataFrame would present the days of the week and the associated temperature and humidity for each day."
   ]
  },
  {
   "cell_type": "code",
   "execution_count": 2,
   "id": "6c9f8781-849b-47e8-a786-d11dd2be0ac0",
   "metadata": {},
   "outputs": [],
   "source": [
    "a = ['Mon.', 'Tues.', 'Wed.']\n",
    "b = [60, 66, 63]\n",
    "c = [67, 55, 51]\n",
    "my_df = pd.DataFrame({'Weekday': a, 'Temp (°)': b, 'Humidity (%)': c})"
   ]
  },
  {
   "cell_type": "markdown",
   "id": "5ec8a18e-1173-436f-a701-4514701a2ee5",
   "metadata": {},
   "source": [
    "### View Head of DataFrame\n",
    "\n",
    "Because the DataFrame only contains 3 rows (per assignment instructions), viewing the head with no additional parameters is the same as just viewing the entire DataFrame."
   ]
  },
  {
   "cell_type": "code",
   "execution_count": 3,
   "id": "80c10347-618b-4ccf-9a9d-23d64ef97d2b",
   "metadata": {},
   "outputs": [
    {
     "data": {
      "text/html": [
       "<div>\n",
       "<style scoped>\n",
       "    .dataframe tbody tr th:only-of-type {\n",
       "        vertical-align: middle;\n",
       "    }\n",
       "\n",
       "    .dataframe tbody tr th {\n",
       "        vertical-align: top;\n",
       "    }\n",
       "\n",
       "    .dataframe thead th {\n",
       "        text-align: right;\n",
       "    }\n",
       "</style>\n",
       "<table border=\"1\" class=\"dataframe\">\n",
       "  <thead>\n",
       "    <tr style=\"text-align: right;\">\n",
       "      <th></th>\n",
       "      <th>Weekday</th>\n",
       "      <th>Temp (°)</th>\n",
       "      <th>Humidity (%)</th>\n",
       "    </tr>\n",
       "  </thead>\n",
       "  <tbody>\n",
       "    <tr>\n",
       "      <th>0</th>\n",
       "      <td>Mon.</td>\n",
       "      <td>60</td>\n",
       "      <td>67</td>\n",
       "    </tr>\n",
       "    <tr>\n",
       "      <th>1</th>\n",
       "      <td>Tues.</td>\n",
       "      <td>66</td>\n",
       "      <td>55</td>\n",
       "    </tr>\n",
       "    <tr>\n",
       "      <th>2</th>\n",
       "      <td>Wed.</td>\n",
       "      <td>63</td>\n",
       "      <td>51</td>\n",
       "    </tr>\n",
       "  </tbody>\n",
       "</table>\n",
       "</div>"
      ],
      "text/plain": [
       "  Weekday  Temp (°)  Humidity (%)\n",
       "0    Mon.        60            67\n",
       "1   Tues.        66            55\n",
       "2    Wed.        63            51"
      ]
     },
     "execution_count": 3,
     "metadata": {},
     "output_type": "execute_result"
    }
   ],
   "source": [
    "my_df.head()"
   ]
  },
  {
   "cell_type": "markdown",
   "id": "96d61396-d35b-4803-a642-9dc2ef77cafc",
   "metadata": {},
   "source": [
    "However, I can add a parameter to view only the first two rows of the DataFrame."
   ]
  },
  {
   "cell_type": "code",
   "execution_count": 4,
   "id": "25acd236-2275-4947-bf3b-2a180a64089b",
   "metadata": {},
   "outputs": [
    {
     "data": {
      "text/html": [
       "<div>\n",
       "<style scoped>\n",
       "    .dataframe tbody tr th:only-of-type {\n",
       "        vertical-align: middle;\n",
       "    }\n",
       "\n",
       "    .dataframe tbody tr th {\n",
       "        vertical-align: top;\n",
       "    }\n",
       "\n",
       "    .dataframe thead th {\n",
       "        text-align: right;\n",
       "    }\n",
       "</style>\n",
       "<table border=\"1\" class=\"dataframe\">\n",
       "  <thead>\n",
       "    <tr style=\"text-align: right;\">\n",
       "      <th></th>\n",
       "      <th>Weekday</th>\n",
       "      <th>Temp (°)</th>\n",
       "      <th>Humidity (%)</th>\n",
       "    </tr>\n",
       "  </thead>\n",
       "  <tbody>\n",
       "    <tr>\n",
       "      <th>0</th>\n",
       "      <td>Mon.</td>\n",
       "      <td>60</td>\n",
       "      <td>67</td>\n",
       "    </tr>\n",
       "    <tr>\n",
       "      <th>1</th>\n",
       "      <td>Tues.</td>\n",
       "      <td>66</td>\n",
       "      <td>55</td>\n",
       "    </tr>\n",
       "  </tbody>\n",
       "</table>\n",
       "</div>"
      ],
      "text/plain": [
       "  Weekday  Temp (°)  Humidity (%)\n",
       "0    Mon.        60            67\n",
       "1   Tues.        66            55"
      ]
     },
     "execution_count": 4,
     "metadata": {},
     "output_type": "execute_result"
    }
   ],
   "source": [
    "my_df.head(2)"
   ]
  },
  {
   "cell_type": "markdown",
   "id": "f2a8219a-2a53-4b51-aa66-16050c167736",
   "metadata": {},
   "source": [
    "### View Index of DataFrame"
   ]
  },
  {
   "cell_type": "code",
   "execution_count": 5,
   "id": "a7d3ed07-1f56-4bf8-bf9b-b26fe8e8575d",
   "metadata": {},
   "outputs": [
    {
     "data": {
      "text/plain": [
       "RangeIndex(start=0, stop=3, step=1)"
      ]
     },
     "execution_count": 5,
     "metadata": {},
     "output_type": "execute_result"
    }
   ],
   "source": [
    "my_df.index"
   ]
  },
  {
   "cell_type": "markdown",
   "id": "d94f96f7-0109-49cb-ba52-028955cc7d3d",
   "metadata": {},
   "source": [
    "### View Only the First Column"
   ]
  },
  {
   "cell_type": "markdown",
   "id": "4778bdfb-e673-4ef1-a439-ca1a1e1f1de7",
   "metadata": {},
   "source": [
    "The code below displays only the data stored in the first column of the DataFrame (the days of the week). "
   ]
  },
  {
   "cell_type": "code",
   "execution_count": 6,
   "id": "f9d32af2-6723-423b-bdf4-747aea83fd6e",
   "metadata": {},
   "outputs": [
    {
     "data": {
      "text/plain": [
       "0     Mon.\n",
       "1    Tues.\n",
       "2     Wed.\n",
       "Name: Weekday, dtype: object"
      ]
     },
     "execution_count": 6,
     "metadata": {},
     "output_type": "execute_result"
    }
   ],
   "source": [
    "my_df['Weekday']"
   ]
  },
  {
   "cell_type": "markdown",
   "id": "ba828632-4189-432a-baa4-5f1035b0a5e0",
   "metadata": {},
   "source": [
    "### View Only the First Row"
   ]
  },
  {
   "cell_type": "markdown",
   "id": "c0e497a5-06ef-4ae9-9ab2-3b362fb1b8a3",
   "metadata": {},
   "source": [
    "The code below displays only the data stored in the first row of the DataFrame (the weekday and its associated temperature and humidity). "
   ]
  },
  {
   "cell_type": "code",
   "execution_count": 7,
   "id": "1e28f3cf-6a7c-498e-be90-86608d3b90d5",
   "metadata": {},
   "outputs": [
    {
     "data": {
      "text/plain": [
       "Weekday         Mon.\n",
       "Temp (°)          60\n",
       "Humidity (%)      67\n",
       "Name: 0, dtype: object"
      ]
     },
     "execution_count": 7,
     "metadata": {},
     "output_type": "execute_result"
    }
   ],
   "source": [
    "my_df.loc[0]"
   ]
  },
  {
   "cell_type": "markdown",
   "id": "09479924-4943-436b-8f5b-5cedde1fffc9",
   "metadata": {},
   "source": [
    "### DataFrame with New Object Type"
   ]
  },
  {
   "cell_type": "markdown",
   "id": "bacd28da-2d44-48e8-b72e-570914d1ea23",
   "metadata": {},
   "source": [
    "Because the first DataFrame used a dictionary of lists, for this new DataFrame I will use a list of dictionaries to display the same data."
   ]
  },
  {
   "cell_type": "code",
   "execution_count": 8,
   "id": "0ca935dc-b4bc-4a09-8cb0-449251b771a9",
   "metadata": {},
   "outputs": [],
   "source": [
    "r = {'Weekday': 'Mon.', 'Temp (°)': 60, 'Humidity(%)': 67}\n",
    "s = {'Weekday': 'Tues.', 'Temp (°)': 66, 'Humidity(%)': 55}\n",
    "t = {'Weekday': 'Wed.', 'Temp (°)': 63, 'Humidity(%)': 51}\n",
    "my_df2 = pd.DataFrame([r, s, t])"
   ]
  },
  {
   "cell_type": "code",
   "execution_count": 9,
   "id": "f16e70b4-c7a2-4420-a349-d0b813dc0241",
   "metadata": {},
   "outputs": [
    {
     "data": {
      "text/html": [
       "<div>\n",
       "<style scoped>\n",
       "    .dataframe tbody tr th:only-of-type {\n",
       "        vertical-align: middle;\n",
       "    }\n",
       "\n",
       "    .dataframe tbody tr th {\n",
       "        vertical-align: top;\n",
       "    }\n",
       "\n",
       "    .dataframe thead th {\n",
       "        text-align: right;\n",
       "    }\n",
       "</style>\n",
       "<table border=\"1\" class=\"dataframe\">\n",
       "  <thead>\n",
       "    <tr style=\"text-align: right;\">\n",
       "      <th></th>\n",
       "      <th>Weekday</th>\n",
       "      <th>Temp (°)</th>\n",
       "      <th>Humidity(%)</th>\n",
       "    </tr>\n",
       "  </thead>\n",
       "  <tbody>\n",
       "    <tr>\n",
       "      <th>0</th>\n",
       "      <td>Mon.</td>\n",
       "      <td>60</td>\n",
       "      <td>67</td>\n",
       "    </tr>\n",
       "    <tr>\n",
       "      <th>1</th>\n",
       "      <td>Tues.</td>\n",
       "      <td>66</td>\n",
       "      <td>55</td>\n",
       "    </tr>\n",
       "    <tr>\n",
       "      <th>2</th>\n",
       "      <td>Wed.</td>\n",
       "      <td>63</td>\n",
       "      <td>51</td>\n",
       "    </tr>\n",
       "  </tbody>\n",
       "</table>\n",
       "</div>"
      ],
      "text/plain": [
       "  Weekday  Temp (°)  Humidity(%)\n",
       "0    Mon.        60           67\n",
       "1   Tues.        66           55\n",
       "2    Wed.        63           51"
      ]
     },
     "execution_count": 9,
     "metadata": {},
     "output_type": "execute_result"
    }
   ],
   "source": [
    "my_df2"
   ]
  },
  {
   "cell_type": "markdown",
   "id": "1134e60c-66c3-4491-8d89-489448b1def0",
   "metadata": {},
   "source": [
    "### Export DataFrame into CVS File"
   ]
  },
  {
   "cell_type": "code",
   "execution_count": 16,
   "id": "0620ca9d-b4ef-4c20-99c6-abf56b179902",
   "metadata": {},
   "outputs": [],
   "source": [
    "my_df.to_csv(\"pandas_challenge.csv\")"
   ]
  },
  {
   "cell_type": "markdown",
   "id": "2d0cce99-1c38-4652-97f3-1a239dc3e1f2",
   "metadata": {},
   "source": [
    "I can double check this worked by asking to have the CVS file read back to me:"
   ]
  },
  {
   "cell_type": "code",
   "execution_count": 17,
   "id": "42a42b2c-135e-4be4-b815-263f829742d9",
   "metadata": {},
   "outputs": [
    {
     "data": {
      "text/html": [
       "<div>\n",
       "<style scoped>\n",
       "    .dataframe tbody tr th:only-of-type {\n",
       "        vertical-align: middle;\n",
       "    }\n",
       "\n",
       "    .dataframe tbody tr th {\n",
       "        vertical-align: top;\n",
       "    }\n",
       "\n",
       "    .dataframe thead th {\n",
       "        text-align: right;\n",
       "    }\n",
       "</style>\n",
       "<table border=\"1\" class=\"dataframe\">\n",
       "  <thead>\n",
       "    <tr style=\"text-align: right;\">\n",
       "      <th></th>\n",
       "      <th>Unnamed: 0</th>\n",
       "      <th>Weekday</th>\n",
       "      <th>Temp (°)</th>\n",
       "      <th>Humidity (%)</th>\n",
       "    </tr>\n",
       "  </thead>\n",
       "  <tbody>\n",
       "    <tr>\n",
       "      <th>0</th>\n",
       "      <td>0</td>\n",
       "      <td>Mon.</td>\n",
       "      <td>60</td>\n",
       "      <td>67</td>\n",
       "    </tr>\n",
       "    <tr>\n",
       "      <th>1</th>\n",
       "      <td>1</td>\n",
       "      <td>Tues.</td>\n",
       "      <td>66</td>\n",
       "      <td>55</td>\n",
       "    </tr>\n",
       "    <tr>\n",
       "      <th>2</th>\n",
       "      <td>2</td>\n",
       "      <td>Wed.</td>\n",
       "      <td>63</td>\n",
       "      <td>51</td>\n",
       "    </tr>\n",
       "  </tbody>\n",
       "</table>\n",
       "</div>"
      ],
      "text/plain": [
       "   Unnamed: 0 Weekday  Temp (°)  Humidity (%)\n",
       "0           0    Mon.        60            67\n",
       "1           1   Tues.        66            55\n",
       "2           2    Wed.        63            51"
      ]
     },
     "execution_count": 17,
     "metadata": {},
     "output_type": "execute_result"
    }
   ],
   "source": [
    "pd.read_csv(\"pandas_challenge.csv\")"
   ]
  },
  {
   "cell_type": "markdown",
   "id": "87ccc25d-20fe-49ae-a79e-4e4eb87d6b7b",
   "metadata": {},
   "source": [
    "I can also look in my computer's file explorer to ensure the new CVS file is saved in the correct folder for this class. Per assignment instructions, I have also uploaded this CVS file to my GitHub repository for this course. "
   ]
  },
  {
   "cell_type": "markdown",
   "id": "ffd20722-90a4-41a5-815e-a2f42bee9032",
   "metadata": {},
   "source": [
    "### Content Questions\n",
    "\n",
    "1. The “write/render/evaluate” loop allows creators to quickly experiment different ways to visualize their data, as well as quickly refine their visualizations based on feedback (Murray, 2017, p. 2). This is especially important for interactive data visualizations, since those are generally more complex than static visualizations because they have moving pieces that can function in different ways. Being able to quickly experiment and find the best way for an interactive part of a visualization to function is very helpful to the process.\n",
    "\n",
    "2. Interactive data visualizations are useful for communicating data for several reasons. They allow audiences to engage with the data in different ways and explore the data from different perspectives, similar to playing a game (Murray, 2017, pp. 2-3). Additionally, interactive visualizations that initially provide an overview of the data while also providing a variety of tools that display more detailed information allows for one visualization to address and fulfill the needs of different audiences, as multiple people could view the same data for different reasons (Murray, 2017, p. 3).\n",
    "\n",
    "3. I did have to look up what proprietary software means and how it contrasts open-source software, and so based on my newfound understanding, I do agree with Murray’s claim that open-source is best for publishing data visualizations. It sounds like proprietary software can limit what users are able to do with that software and the things they create with it, which to me means it would also limit potential users’ ability to access data visualizations made with that kind of software. And so the claim that open-source allows for greater access and therefore a greater audience and impact makes sense to me (Murray, 2017, p. 3). Also, open-source tools allow viewers to inspect the source code, which means a viewer can inspect the code to see how it works, which is a great learning opportunity. I believe it would also mean a viewer could discover if someone was being manipulative with their data visualization and trying to misinform the audience (I am not sure if it is a stretch to say that or not). With all that considered, yes I agree with Murray’s claim. (Note: I wrote this response before our class discussion on 1/23/25. After our discussion, I feel even more confident in my agreement.)\n",
    "\n",
    "#### Works Cited\n",
    "Murray, S. (2017). Introduction. *Interactive Data Visualization for the Web: An Introduction to Designing with D3* (3rd ed., pp. 1-4). O’Reily."
   ]
  }
 ],
 "metadata": {
  "kernelspec": {
   "display_name": "Python 3 (ipykernel)",
   "language": "python",
   "name": "python3"
  },
  "language_info": {
   "codemirror_mode": {
    "name": "ipython",
    "version": 3
   },
   "file_extension": ".py",
   "mimetype": "text/x-python",
   "name": "python",
   "nbconvert_exporter": "python",
   "pygments_lexer": "ipython3",
   "version": "3.12.8"
  }
 },
 "nbformat": 4,
 "nbformat_minor": 5
}
