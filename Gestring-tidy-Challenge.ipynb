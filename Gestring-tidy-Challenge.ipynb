{
 "cells": [
  {
   "cell_type": "markdown",
   "id": "536e6032-8fd7-49a4-8424-a4c568aa6762",
   "metadata": {},
   "source": [
    "# tidy Challenge\n",
    "\n",
    "## Serena Gestring - 2/2/25"
   ]
  },
  {
   "cell_type": "markdown",
   "id": "cebc2dbc-6a5b-42c5-be6a-b41fbf31303e",
   "metadata": {},
   "source": [
    "To begin, I will import the pandas module and import the json file I will be working with throughout this challenge."
   ]
  },
  {
   "cell_type": "code",
   "execution_count": 1,
   "id": "2721fb27-ed9c-4cb1-8a3d-a8c1799f118c",
   "metadata": {},
   "outputs": [],
   "source": [
    "import pandas as pd\n",
    "import json"
   ]
  },
  {
   "cell_type": "code",
   "execution_count": 2,
   "id": "c3718359-a05a-4c1d-9ec7-b19975fdc722",
   "metadata": {},
   "outputs": [],
   "source": [
    "with open('chessbuds_messages.json') as c:\n",
    "    chess = json.load(c)"
   ]
  },
  {
   "cell_type": "code",
   "execution_count": 3,
   "id": "fc944b26-8586-432b-bb00-82150526f8bc",
   "metadata": {},
   "outputs": [
    {
     "data": {
      "text/plain": [
       "dict"
      ]
     },
     "execution_count": 3,
     "metadata": {},
     "output_type": "execute_result"
    }
   ],
   "source": [
    "type(chess)"
   ]
  },
  {
   "cell_type": "markdown",
   "id": "46147850-406a-4dc9-b88b-262981ecd52d",
   "metadata": {},
   "source": [
    "### Creating A DataFrame"
   ]
  },
  {
   "cell_type": "markdown",
   "id": "7c79ae19-0655-4dee-83aa-2f48d1de6fa6",
   "metadata": {},
   "source": [
    "Before creating a DataFrame, I want to better understand the structure of the dictionary, so I checked the keys. "
   ]
  },
  {
   "cell_type": "code",
   "execution_count": 4,
   "id": "5e9e0e84-c167-4d2c-aff6-c75505a17a42",
   "metadata": {},
   "outputs": [
    {
     "data": {
      "text/plain": [
       "dict_keys(['participants', 'messages', 'title', 'is_still_participant', 'thread_type', 'thread_path', 'magic_words', 'joinable_mode'])"
      ]
     },
     "execution_count": 4,
     "metadata": {},
     "output_type": "execute_result"
    }
   ],
   "source": [
    "chess.keys()"
   ]
  },
  {
   "cell_type": "markdown",
   "id": "d7ae67fc-9337-409a-b6fb-822cc94b1118",
   "metadata": {},
   "source": [
    "From here I want to investigate the keys to see what data is stored in each so I can figure out what the best observational unit for my final tidy DataFrame should be."
   ]
  },
  {
   "cell_type": "code",
   "execution_count": 5,
   "id": "7c1f2fc2-0a43-45a5-8be7-974f52590a46",
   "metadata": {},
   "outputs": [
    {
     "data": {
      "text/plain": [
       "[{'name': 'Scott Pence'},\n",
       " {'name': 'Chad Larson'},\n",
       " {'name': 'Joanna Rusch'},\n",
       " {'name': 'Angela Babbitt Pence'},\n",
       " {'name': 'David Silva'},\n",
       " {'name': 'Aaron Rusch'},\n",
       " {'name': 'Timothy Vanderpool'}]"
      ]
     },
     "execution_count": 5,
     "metadata": {},
     "output_type": "execute_result"
    }
   ],
   "source": [
    "chess['participants']"
   ]
  },
  {
   "cell_type": "markdown",
   "id": "63a749f9-c1ed-4e53-8175-ff1dfab4e007",
   "metadata": {},
   "source": [
    "I did run the below cell but because the output was so long I cleared it so that it would not show up once I upload this jupyter notebook to GitHub."
   ]
  },
  {
   "cell_type": "code",
   "execution_count": null,
   "id": "1ccae0b9-2b1e-4f61-955d-d4d79c1e1988",
   "metadata": {},
   "outputs": [],
   "source": [
    "chess['messages']"
   ]
  },
  {
   "cell_type": "code",
   "execution_count": 7,
   "id": "30c9e404-b76f-48bb-ac79-47e715148c6d",
   "metadata": {},
   "outputs": [
    {
     "data": {
      "text/plain": [
       "'Chess Buds'"
      ]
     },
     "execution_count": 7,
     "metadata": {},
     "output_type": "execute_result"
    }
   ],
   "source": [
    "chess['title']"
   ]
  },
  {
   "cell_type": "code",
   "execution_count": 8,
   "id": "b8e04409-9147-412f-a008-062a73200896",
   "metadata": {},
   "outputs": [
    {
     "data": {
      "text/plain": [
       "True"
      ]
     },
     "execution_count": 8,
     "metadata": {},
     "output_type": "execute_result"
    }
   ],
   "source": [
    "chess['is_still_participant']"
   ]
  },
  {
   "cell_type": "code",
   "execution_count": 9,
   "id": "2554f8c1-8b7f-4dd0-9d74-237a9254354d",
   "metadata": {},
   "outputs": [
    {
     "data": {
      "text/plain": [
       "'RegularGroup'"
      ]
     },
     "execution_count": 9,
     "metadata": {},
     "output_type": "execute_result"
    }
   ],
   "source": [
    "chess['thread_type']"
   ]
  },
  {
   "cell_type": "code",
   "execution_count": 10,
   "id": "816882db-d40e-4d0a-8af6-289fab03da4d",
   "metadata": {},
   "outputs": [
    {
     "data": {
      "text/plain": [
       "'inbox/chessbuds_npjakt9u1g'"
      ]
     },
     "execution_count": 10,
     "metadata": {},
     "output_type": "execute_result"
    }
   ],
   "source": [
    "chess['thread_path']"
   ]
  },
  {
   "cell_type": "code",
   "execution_count": 11,
   "id": "f992c8b5-1cd8-40fb-b681-6547a6dd0cfc",
   "metadata": {},
   "outputs": [
    {
     "data": {
      "text/plain": [
       "[]"
      ]
     },
     "execution_count": 11,
     "metadata": {},
     "output_type": "execute_result"
    }
   ],
   "source": [
    "chess['magic_words']"
   ]
  },
  {
   "cell_type": "code",
   "execution_count": 12,
   "id": "0638f72e-d3ec-4c5b-b4d3-2b94872c05f4",
   "metadata": {},
   "outputs": [
    {
     "data": {
      "text/plain": [
       "{'mode': 1, 'link': ''}"
      ]
     },
     "execution_count": 12,
     "metadata": {},
     "output_type": "execute_result"
    }
   ],
   "source": [
    "chess['joinable_mode']"
   ]
  },
  {
   "cell_type": "markdown",
   "id": "a84d4513-2cb8-4b8f-b377-aa54e1aefbcd",
   "metadata": {},
   "source": [
    "Even though I cleared the code cell, the messages key seems to be the only one with any interesting data, so I am going to create and tidy a DataFrame for the messages (my observational unit). Below is the first five rows of my initial messy DataFrame so I can see what columns are already tidy and which need to be tidied.   "
   ]
  },
  {
   "cell_type": "code",
   "execution_count": 13,
   "id": "68769994-d29a-4c11-b062-d0aec43e706d",
   "metadata": {
    "scrolled": true
   },
   "outputs": [
    {
     "data": {
      "text/html": [
       "<div>\n",
       "<style scoped>\n",
       "    .dataframe tbody tr th:only-of-type {\n",
       "        vertical-align: middle;\n",
       "    }\n",
       "\n",
       "    .dataframe tbody tr th {\n",
       "        vertical-align: top;\n",
       "    }\n",
       "\n",
       "    .dataframe thead th {\n",
       "        text-align: right;\n",
       "    }\n",
       "</style>\n",
       "<table border=\"1\" class=\"dataframe\">\n",
       "  <thead>\n",
       "    <tr style=\"text-align: right;\">\n",
       "      <th></th>\n",
       "      <th>sender_name</th>\n",
       "      <th>timestamp_ms</th>\n",
       "      <th>content</th>\n",
       "      <th>reactions</th>\n",
       "      <th>type</th>\n",
       "      <th>is_unsent</th>\n",
       "      <th>is_taken_down</th>\n",
       "      <th>bumped_message_metadata</th>\n",
       "      <th>share</th>\n",
       "      <th>photos</th>\n",
       "      <th>gifs</th>\n",
       "      <th>users</th>\n",
       "    </tr>\n",
       "  </thead>\n",
       "  <tbody>\n",
       "    <tr>\n",
       "      <th>0</th>\n",
       "      <td>Joanna Rusch</td>\n",
       "      <td>1666374933946</td>\n",
       "      <td>Maybe he just wants to ride the publicity for ...</td>\n",
       "      <td>[{'reaction': 'ð', 'actor': 'Chad Larson'},...</td>\n",
       "      <td>Generic</td>\n",
       "      <td>False</td>\n",
       "      <td>False</td>\n",
       "      <td>{'bumped_message': 'Maybe he just wants to rid...</td>\n",
       "      <td>NaN</td>\n",
       "      <td>NaN</td>\n",
       "      <td>NaN</td>\n",
       "      <td>NaN</td>\n",
       "    </tr>\n",
       "    <tr>\n",
       "      <th>1</th>\n",
       "      <td>Chad Larson</td>\n",
       "      <td>1666373448613</td>\n",
       "      <td>To be fair to Hans....no one wants to be assoc...</td>\n",
       "      <td>[{'reaction': 'ð', 'actor': 'Scott Pence'},...</td>\n",
       "      <td>Generic</td>\n",
       "      <td>False</td>\n",
       "      <td>False</td>\n",
       "      <td>{'bumped_message': 'To be fair to Hans....no o...</td>\n",
       "      <td>NaN</td>\n",
       "      <td>NaN</td>\n",
       "      <td>NaN</td>\n",
       "      <td>NaN</td>\n",
       "    </tr>\n",
       "    <tr>\n",
       "      <th>2</th>\n",
       "      <td>Chad Larson</td>\n",
       "      <td>1666373216381</td>\n",
       "      <td>He would have to prove he didn't cheat and tha...</td>\n",
       "      <td>[{'reaction': 'ð', 'actor': 'Scott Pence'},...</td>\n",
       "      <td>Generic</td>\n",
       "      <td>False</td>\n",
       "      <td>False</td>\n",
       "      <td>{'bumped_message': 'He would have to prove he ...</td>\n",
       "      <td>NaN</td>\n",
       "      <td>NaN</td>\n",
       "      <td>NaN</td>\n",
       "      <td>NaN</td>\n",
       "    </tr>\n",
       "    <tr>\n",
       "      <th>3</th>\n",
       "      <td>Scott Pence</td>\n",
       "      <td>1666373164883</td>\n",
       "      <td>Yeah, no way. You over shoot and hope to get a...</td>\n",
       "      <td>[{'reaction': 'ð', 'actor': 'Chad Larson'},...</td>\n",
       "      <td>Generic</td>\n",
       "      <td>False</td>\n",
       "      <td>False</td>\n",
       "      <td>{'bumped_message': 'Yeah, no way. You over sho...</td>\n",
       "      <td>NaN</td>\n",
       "      <td>NaN</td>\n",
       "      <td>NaN</td>\n",
       "      <td>NaN</td>\n",
       "    </tr>\n",
       "    <tr>\n",
       "      <th>4</th>\n",
       "      <td>Chad Larson</td>\n",
       "      <td>1666373111157</td>\n",
       "      <td>From what I see, I don't think he could win.  ...</td>\n",
       "      <td>NaN</td>\n",
       "      <td>Generic</td>\n",
       "      <td>False</td>\n",
       "      <td>False</td>\n",
       "      <td>{'bumped_message': 'From what I see, I don't t...</td>\n",
       "      <td>NaN</td>\n",
       "      <td>NaN</td>\n",
       "      <td>NaN</td>\n",
       "      <td>NaN</td>\n",
       "    </tr>\n",
       "  </tbody>\n",
       "</table>\n",
       "</div>"
      ],
      "text/plain": [
       "    sender_name   timestamp_ms  \\\n",
       "0  Joanna Rusch  1666374933946   \n",
       "1   Chad Larson  1666373448613   \n",
       "2   Chad Larson  1666373216381   \n",
       "3   Scott Pence  1666373164883   \n",
       "4   Chad Larson  1666373111157   \n",
       "\n",
       "                                             content  \\\n",
       "0  Maybe he just wants to ride the publicity for ...   \n",
       "1  To be fair to Hans....no one wants to be assoc...   \n",
       "2  He would have to prove he didn't cheat and tha...   \n",
       "3  Yeah, no way. You over shoot and hope to get a...   \n",
       "4  From what I see, I don't think he could win.  ...   \n",
       "\n",
       "                                           reactions     type  is_unsent  \\\n",
       "0  [{'reaction': 'ð', 'actor': 'Chad Larson'},...  Generic      False   \n",
       "1  [{'reaction': 'ð', 'actor': 'Scott Pence'},...  Generic      False   \n",
       "2  [{'reaction': 'ð', 'actor': 'Scott Pence'},...  Generic      False   \n",
       "3  [{'reaction': 'ð', 'actor': 'Chad Larson'},...  Generic      False   \n",
       "4                                                NaN  Generic      False   \n",
       "\n",
       "   is_taken_down                            bumped_message_metadata share  \\\n",
       "0          False  {'bumped_message': 'Maybe he just wants to rid...   NaN   \n",
       "1          False  {'bumped_message': 'To be fair to Hans....no o...   NaN   \n",
       "2          False  {'bumped_message': 'He would have to prove he ...   NaN   \n",
       "3          False  {'bumped_message': 'Yeah, no way. You over sho...   NaN   \n",
       "4          False  {'bumped_message': 'From what I see, I don't t...   NaN   \n",
       "\n",
       "  photos gifs users  \n",
       "0    NaN  NaN   NaN  \n",
       "1    NaN  NaN   NaN  \n",
       "2    NaN  NaN   NaN  \n",
       "3    NaN  NaN   NaN  \n",
       "4    NaN  NaN   NaN  "
      ]
     },
     "execution_count": 13,
     "metadata": {},
     "output_type": "execute_result"
    }
   ],
   "source": [
    "messages_df = pd.DataFrame(chess['messages'])\n",
    "messages_df.head()"
   ]
  },
  {
   "cell_type": "markdown",
   "id": "bcd7a29c-bfcf-49a5-af88-fc30731227d2",
   "metadata": {},
   "source": [
    "Already, it does appear that each row contains one observation (an individual message), so that does not need tidied. The 'sender_name' attribute (column) seems to only contain one name/value per observation, which makes sense because one message isn't going to be sent from multiple senders, so that is tidy. This also seems to be the case for the 'timestamp_ms,' 'content,' 'type,' 'is_unsent,' and 'is_taken_down' attributes as well. You can also tell because none of these cells contain a dictionary ({}) or a list ([]). The presence of either indiciates there are multiple values/attributes stored in one cell, and therefore does not meet tidy principles. This *is* the case for the 'reactions' and 'bumped_message_metadata' attributes. I am unsure about the 'share,' 'photos,' 'gifs,' and 'users' attributes because for the first 5 observations they are all empty values, so I will have to further investigate those attributes to see if they will need tidied. "
   ]
  },
  {
   "cell_type": "markdown",
   "id": "6ac5ec0a-2c36-4c74-83cf-e8a55546a309",
   "metadata": {},
   "source": [
    "### Manipulating the DataFrame"
   ]
  },
  {
   "cell_type": "markdown",
   "id": "7f534269-58fb-41b7-8505-4de275d6a0e7",
   "metadata": {},
   "source": [
    "Before I begin to manipulate and tidy the data frame, I need to learn more about some of these attributes and how they are structured. \n",
    "\n",
    "Below I am investigating 'reactions' further. Some row values are empty, but those that are not contain a list which then contains a dictionary (or multiple) that defines a 'reaction' and an 'actor.' The 'reaction' data seems to be stored as symbols, which really don't mean anything to me so I am deciding that for the 'reactions' attribute I am going to pull just the 'actor,' or the people who reacted to the message, from this attribute and add it as its own column to the full DataFrame."
   ]
  },
  {
   "cell_type": "code",
   "execution_count": 14,
   "id": "2d2bb68d-0e11-4a9f-a505-c06ef0c8b8dd",
   "metadata": {},
   "outputs": [
    {
     "data": {
      "text/plain": [
       "0      [{'reaction': 'ð', 'actor': 'Chad Larson'},...\n",
       "1      [{'reaction': 'ð', 'actor': 'Scott Pence'},...\n",
       "2      [{'reaction': 'ð', 'actor': 'Scott Pence'},...\n",
       "3      [{'reaction': 'ð', 'actor': 'Chad Larson'},...\n",
       "4                                                    NaN\n",
       "                             ...                        \n",
       "218                                                  NaN\n",
       "219       [{'reaction': 'ð', 'actor': 'Chad Larson'}]\n",
       "220                                                  NaN\n",
       "221                                                  NaN\n",
       "222                                                  NaN\n",
       "Name: reactions, Length: 223, dtype: object"
      ]
     },
     "execution_count": 14,
     "metadata": {},
     "output_type": "execute_result"
    }
   ],
   "source": [
    "messages_df['reactions']"
   ]
  },
  {
   "cell_type": "code",
   "execution_count": 15,
   "id": "39b6e4b6-d167-47a3-974e-fe22928cf80a",
   "metadata": {},
   "outputs": [
    {
     "data": {
      "text/plain": [
       "[{'reaction': 'ð\\x9f\\x91\\x8d', 'actor': 'Chad Larson'},\n",
       " {'reaction': 'ð\\x9f\\x91\\x8d', 'actor': 'Chad Larson'}]"
      ]
     },
     "execution_count": 15,
     "metadata": {},
     "output_type": "execute_result"
    }
   ],
   "source": [
    "messages_df['reactions'][0]"
   ]
  },
  {
   "cell_type": "code",
   "execution_count": 16,
   "id": "0d052b45-f2d6-4dfd-ab95-a682d359fad5",
   "metadata": {},
   "outputs": [
    {
     "data": {
      "text/plain": [
       "'Chad Larson'"
      ]
     },
     "execution_count": 16,
     "metadata": {},
     "output_type": "execute_result"
    }
   ],
   "source": [
    "messages_df['reactions'][0][0]['actor']"
   ]
  },
  {
   "cell_type": "markdown",
   "id": "7ede8c89-682d-405f-8017-aa256847a5b6",
   "metadata": {},
   "source": [
    "Below is my attempt at trying to use list comprehension to pull the 'actor' data from the 'reactions' dictionaries, but I got this error:"
   ]
  },
  {
   "cell_type": "code",
   "execution_count": 17,
   "id": "cbd3809e-3f81-4ef9-97ac-61eb52a429d8",
   "metadata": {
    "scrolled": true
   },
   "outputs": [
    {
     "ename": "TypeError",
     "evalue": "'float' object is not iterable",
     "output_type": "error",
     "traceback": [
      "\u001b[1;31m---------------------------------------------------------------------------\u001b[0m",
      "\u001b[1;31mTypeError\u001b[0m                                 Traceback (most recent call last)",
      "Cell \u001b[1;32mIn[17], line 1\u001b[0m\n\u001b[1;32m----> 1\u001b[0m [[y[\u001b[38;5;124m'\u001b[39m\u001b[38;5;124mactor\u001b[39m\u001b[38;5;124m'\u001b[39m] \u001b[38;5;28;01mfor\u001b[39;00m y \u001b[38;5;129;01min\u001b[39;00m x] \u001b[38;5;28;01mfor\u001b[39;00m x \u001b[38;5;129;01min\u001b[39;00m messages_df[\u001b[38;5;124m'\u001b[39m\u001b[38;5;124mreactions\u001b[39m\u001b[38;5;124m'\u001b[39m]]\n",
      "\u001b[1;31mTypeError\u001b[0m: 'float' object is not iterable"
     ]
    }
   ],
   "source": [
    "[[y['actor'] for y in x] for x in messages_df['reactions']]"
   ]
  },
  {
   "cell_type": "markdown",
   "id": "4c5fd45e-205d-4742-b694-3a450a729c12",
   "metadata": {},
   "source": [
    "So I investigated further using type. I did run the below cell but I cleared its contents since it was really long. But what I found was two types of structures: list and float. Google told me the float is a data type that represents decimal numbers. This confused me and I did not know what to do."
   ]
  },
  {
   "cell_type": "code",
   "execution_count": null,
   "id": "0edc0774-66ba-4eaf-976c-7e4187c63ff4",
   "metadata": {},
   "outputs": [],
   "source": [
    "[type(x) for x in messages_df['reactions']]"
   ]
  },
  {
   "cell_type": "markdown",
   "id": "dce5a2a6-b0f1-476f-88b5-2b949d03d8fd",
   "metadata": {},
   "source": [
    "Then I thought that since some messages have multiple 'actors' reacting to it, it wouldn't be tidy to have actors as its own column anyway since some would have multiple values in one cell. So then I thought maybe I should try just using 'len' like we did in class to get a numeric value for how many 'actors' reacted to each message because that would give us one value per message. However, I got a similar error message that float is not iterable. I tried looking at the documentation to figure out how to deal with floats, but I kept seeing 'floating-point' and 'PyFloat,' and nothing was helpful. "
   ]
  },
  {
   "cell_type": "code",
   "execution_count": 19,
   "id": "9f562f7c-65f1-49a2-82df-511bf09f0a6f",
   "metadata": {},
   "outputs": [
    {
     "ename": "TypeError",
     "evalue": "'float' object is not iterable",
     "output_type": "error",
     "traceback": [
      "\u001b[1;31m---------------------------------------------------------------------------\u001b[0m",
      "\u001b[1;31mTypeError\u001b[0m                                 Traceback (most recent call last)",
      "Cell \u001b[1;32mIn[19], line 1\u001b[0m\n\u001b[1;32m----> 1\u001b[0m [[\u001b[38;5;28mlen\u001b[39m(y[\u001b[38;5;124m'\u001b[39m\u001b[38;5;124mactor\u001b[39m\u001b[38;5;124m'\u001b[39m]) \u001b[38;5;28;01mfor\u001b[39;00m y \u001b[38;5;129;01min\u001b[39;00m x] \u001b[38;5;28;01mfor\u001b[39;00m x \u001b[38;5;129;01min\u001b[39;00m messages_df[\u001b[38;5;124m'\u001b[39m\u001b[38;5;124mreactions\u001b[39m\u001b[38;5;124m'\u001b[39m]]\n",
      "\u001b[1;31mTypeError\u001b[0m: 'float' object is not iterable"
     ]
    }
   ],
   "source": [
    "[[len(y['actor']) for y in x] for x in messages_df['reactions']]"
   ]
  },
  {
   "cell_type": "markdown",
   "id": "64bf0c73-d7e5-4b1b-8a7c-f98f7acebd33",
   "metadata": {},
   "source": [
    "Without knowing what else to try, I have decided just to drop the 'reactions' attribute altogether and move on to the rest of the DataFrame."
   ]
  },
  {
   "cell_type": "code",
   "execution_count": 20,
   "id": "8bdab75d-21ab-483a-a682-e5d7a4623972",
   "metadata": {},
   "outputs": [],
   "source": [
    "messages_df.drop('reactions', axis=1, inplace=True)"
   ]
  },
  {
   "cell_type": "code",
   "execution_count": 21,
   "id": "938a23a6-ee87-45c4-b402-d415ec497c29",
   "metadata": {},
   "outputs": [
    {
     "data": {
      "text/html": [
       "<div>\n",
       "<style scoped>\n",
       "    .dataframe tbody tr th:only-of-type {\n",
       "        vertical-align: middle;\n",
       "    }\n",
       "\n",
       "    .dataframe tbody tr th {\n",
       "        vertical-align: top;\n",
       "    }\n",
       "\n",
       "    .dataframe thead th {\n",
       "        text-align: right;\n",
       "    }\n",
       "</style>\n",
       "<table border=\"1\" class=\"dataframe\">\n",
       "  <thead>\n",
       "    <tr style=\"text-align: right;\">\n",
       "      <th></th>\n",
       "      <th>sender_name</th>\n",
       "      <th>timestamp_ms</th>\n",
       "      <th>content</th>\n",
       "      <th>type</th>\n",
       "      <th>is_unsent</th>\n",
       "      <th>is_taken_down</th>\n",
       "      <th>bumped_message_metadata</th>\n",
       "      <th>share</th>\n",
       "      <th>photos</th>\n",
       "      <th>gifs</th>\n",
       "      <th>users</th>\n",
       "    </tr>\n",
       "  </thead>\n",
       "  <tbody>\n",
       "    <tr>\n",
       "      <th>0</th>\n",
       "      <td>Joanna Rusch</td>\n",
       "      <td>1666374933946</td>\n",
       "      <td>Maybe he just wants to ride the publicity for ...</td>\n",
       "      <td>Generic</td>\n",
       "      <td>False</td>\n",
       "      <td>False</td>\n",
       "      <td>{'bumped_message': 'Maybe he just wants to rid...</td>\n",
       "      <td>NaN</td>\n",
       "      <td>NaN</td>\n",
       "      <td>NaN</td>\n",
       "      <td>NaN</td>\n",
       "    </tr>\n",
       "    <tr>\n",
       "      <th>1</th>\n",
       "      <td>Chad Larson</td>\n",
       "      <td>1666373448613</td>\n",
       "      <td>To be fair to Hans....no one wants to be assoc...</td>\n",
       "      <td>Generic</td>\n",
       "      <td>False</td>\n",
       "      <td>False</td>\n",
       "      <td>{'bumped_message': 'To be fair to Hans....no o...</td>\n",
       "      <td>NaN</td>\n",
       "      <td>NaN</td>\n",
       "      <td>NaN</td>\n",
       "      <td>NaN</td>\n",
       "    </tr>\n",
       "    <tr>\n",
       "      <th>2</th>\n",
       "      <td>Chad Larson</td>\n",
       "      <td>1666373216381</td>\n",
       "      <td>He would have to prove he didn't cheat and tha...</td>\n",
       "      <td>Generic</td>\n",
       "      <td>False</td>\n",
       "      <td>False</td>\n",
       "      <td>{'bumped_message': 'He would have to prove he ...</td>\n",
       "      <td>NaN</td>\n",
       "      <td>NaN</td>\n",
       "      <td>NaN</td>\n",
       "      <td>NaN</td>\n",
       "    </tr>\n",
       "    <tr>\n",
       "      <th>3</th>\n",
       "      <td>Scott Pence</td>\n",
       "      <td>1666373164883</td>\n",
       "      <td>Yeah, no way. You over shoot and hope to get a...</td>\n",
       "      <td>Generic</td>\n",
       "      <td>False</td>\n",
       "      <td>False</td>\n",
       "      <td>{'bumped_message': 'Yeah, no way. You over sho...</td>\n",
       "      <td>NaN</td>\n",
       "      <td>NaN</td>\n",
       "      <td>NaN</td>\n",
       "      <td>NaN</td>\n",
       "    </tr>\n",
       "    <tr>\n",
       "      <th>4</th>\n",
       "      <td>Chad Larson</td>\n",
       "      <td>1666373111157</td>\n",
       "      <td>From what I see, I don't think he could win.  ...</td>\n",
       "      <td>Generic</td>\n",
       "      <td>False</td>\n",
       "      <td>False</td>\n",
       "      <td>{'bumped_message': 'From what I see, I don't t...</td>\n",
       "      <td>NaN</td>\n",
       "      <td>NaN</td>\n",
       "      <td>NaN</td>\n",
       "      <td>NaN</td>\n",
       "    </tr>\n",
       "  </tbody>\n",
       "</table>\n",
       "</div>"
      ],
      "text/plain": [
       "    sender_name   timestamp_ms  \\\n",
       "0  Joanna Rusch  1666374933946   \n",
       "1   Chad Larson  1666373448613   \n",
       "2   Chad Larson  1666373216381   \n",
       "3   Scott Pence  1666373164883   \n",
       "4   Chad Larson  1666373111157   \n",
       "\n",
       "                                             content     type  is_unsent  \\\n",
       "0  Maybe he just wants to ride the publicity for ...  Generic      False   \n",
       "1  To be fair to Hans....no one wants to be assoc...  Generic      False   \n",
       "2  He would have to prove he didn't cheat and tha...  Generic      False   \n",
       "3  Yeah, no way. You over shoot and hope to get a...  Generic      False   \n",
       "4  From what I see, I don't think he could win.  ...  Generic      False   \n",
       "\n",
       "   is_taken_down                            bumped_message_metadata share  \\\n",
       "0          False  {'bumped_message': 'Maybe he just wants to rid...   NaN   \n",
       "1          False  {'bumped_message': 'To be fair to Hans....no o...   NaN   \n",
       "2          False  {'bumped_message': 'He would have to prove he ...   NaN   \n",
       "3          False  {'bumped_message': 'Yeah, no way. You over sho...   NaN   \n",
       "4          False  {'bumped_message': 'From what I see, I don't t...   NaN   \n",
       "\n",
       "  photos gifs users  \n",
       "0    NaN  NaN   NaN  \n",
       "1    NaN  NaN   NaN  \n",
       "2    NaN  NaN   NaN  \n",
       "3    NaN  NaN   NaN  \n",
       "4    NaN  NaN   NaN  "
      ]
     },
     "execution_count": 21,
     "metadata": {},
     "output_type": "execute_result"
    }
   ],
   "source": [
    "messages_df.head()"
   ]
  },
  {
   "cell_type": "markdown",
   "id": "0d0e98af-1218-496c-8ccf-cdac8e4e4805",
   "metadata": {},
   "source": [
    "Next, I want to investigate the 'bumped_message_metadata' attribute. This attribute contains a dictionary that define two things: the bumped message (which seems to be the same as the 'content' attribute) and then an 'is_bumped' attribute that can be either True or False."
   ]
  },
  {
   "cell_type": "code",
   "execution_count": 22,
   "id": "d85cf573-4559-4713-8493-682d00a8979b",
   "metadata": {},
   "outputs": [
    {
     "data": {
      "text/plain": [
       "{'bumped_message': \"Maybe he just wants to ride the publicity for a bit longer, even if he doesn't get any money from the lawsuit. Like, I didn't know his name before this but I certainly do now.\",\n",
       " 'is_bumped': False}"
      ]
     },
     "execution_count": 22,
     "metadata": {},
     "output_type": "execute_result"
    }
   ],
   "source": [
    "messages_df['bumped_message_metadata'][0]"
   ]
  },
  {
   "cell_type": "markdown",
   "id": "965c396b-4ae6-42e9-9f9c-e07fe9f8be2e",
   "metadata": {},
   "source": [
    "Since I felt it would be redundant to include 'bumped_message' when it seems to be the same as the 'content' attribute, I thought I would try a similar approach as before by just pulling out the 'is_bumped' attribute for each message to make it its own column with one value: True or False. But I got this error:"
   ]
  },
  {
   "cell_type": "code",
   "execution_count": 23,
   "id": "d54fd702-efe9-4e06-b6c1-d5a1a28a236f",
   "metadata": {},
   "outputs": [
    {
     "ename": "TypeError",
     "evalue": "string indices must be integers, not 'str'",
     "output_type": "error",
     "traceback": [
      "\u001b[1;31m---------------------------------------------------------------------------\u001b[0m",
      "\u001b[1;31mTypeError\u001b[0m                                 Traceback (most recent call last)",
      "Cell \u001b[1;32mIn[23], line 1\u001b[0m\n\u001b[1;32m----> 1\u001b[0m [[y[\u001b[38;5;124m'\u001b[39m\u001b[38;5;124mis_bumped\u001b[39m\u001b[38;5;124m'\u001b[39m] \u001b[38;5;28;01mfor\u001b[39;00m y \u001b[38;5;129;01min\u001b[39;00m x] \u001b[38;5;28;01mfor\u001b[39;00m x \u001b[38;5;129;01min\u001b[39;00m messages_df[\u001b[38;5;124m'\u001b[39m\u001b[38;5;124mbumped_message_metadata\u001b[39m\u001b[38;5;124m'\u001b[39m]]\n",
      "\u001b[1;31mTypeError\u001b[0m: string indices must be integers, not 'str'"
     ]
    }
   ],
   "source": [
    "[[y['is_bumped'] for y in x] for x in messages_df['bumped_message_metadata']]"
   ]
  },
  {
   "cell_type": "markdown",
   "id": "21aa23f0-5e52-4c4e-8908-a220eac6095b",
   "metadata": {},
   "source": [
    "I looked back at the example we did in class, and I think the issue is when we were accessing the 'name' attribute within 'artists' the data was a list, whereas here the 'is_bumped' values are not lists but a boolean (True or False - I think boolean is the correct language to use here). That is the only difference I can see so I think that is what the problem is, but I do not know how to fix it. I found [this artcile](https://builtin.com/data-science/string-indices-must-be-integers) about the \"string indices must be integers\" error but I didn't understand the solutions it was describing. And so 'bumped_message_metadata' is getting dropped too."
   ]
  },
  {
   "cell_type": "code",
   "execution_count": 26,
   "id": "f47566c8-403e-49cb-9731-d780a42dffc8",
   "metadata": {},
   "outputs": [],
   "source": [
    "messages_df.drop('bumped_message_metadata', axis=1, inplace=True)"
   ]
  },
  {
   "cell_type": "code",
   "execution_count": 27,
   "id": "3ad6d6d9-d618-4f86-aea3-97fe407edf56",
   "metadata": {},
   "outputs": [
    {
     "data": {
      "text/html": [
       "<div>\n",
       "<style scoped>\n",
       "    .dataframe tbody tr th:only-of-type {\n",
       "        vertical-align: middle;\n",
       "    }\n",
       "\n",
       "    .dataframe tbody tr th {\n",
       "        vertical-align: top;\n",
       "    }\n",
       "\n",
       "    .dataframe thead th {\n",
       "        text-align: right;\n",
       "    }\n",
       "</style>\n",
       "<table border=\"1\" class=\"dataframe\">\n",
       "  <thead>\n",
       "    <tr style=\"text-align: right;\">\n",
       "      <th></th>\n",
       "      <th>sender_name</th>\n",
       "      <th>timestamp_ms</th>\n",
       "      <th>content</th>\n",
       "      <th>type</th>\n",
       "      <th>is_unsent</th>\n",
       "      <th>is_taken_down</th>\n",
       "      <th>share</th>\n",
       "      <th>photos</th>\n",
       "      <th>gifs</th>\n",
       "      <th>users</th>\n",
       "    </tr>\n",
       "  </thead>\n",
       "  <tbody>\n",
       "    <tr>\n",
       "      <th>0</th>\n",
       "      <td>Joanna Rusch</td>\n",
       "      <td>1666374933946</td>\n",
       "      <td>Maybe he just wants to ride the publicity for ...</td>\n",
       "      <td>Generic</td>\n",
       "      <td>False</td>\n",
       "      <td>False</td>\n",
       "      <td>NaN</td>\n",
       "      <td>NaN</td>\n",
       "      <td>NaN</td>\n",
       "      <td>NaN</td>\n",
       "    </tr>\n",
       "    <tr>\n",
       "      <th>1</th>\n",
       "      <td>Chad Larson</td>\n",
       "      <td>1666373448613</td>\n",
       "      <td>To be fair to Hans....no one wants to be assoc...</td>\n",
       "      <td>Generic</td>\n",
       "      <td>False</td>\n",
       "      <td>False</td>\n",
       "      <td>NaN</td>\n",
       "      <td>NaN</td>\n",
       "      <td>NaN</td>\n",
       "      <td>NaN</td>\n",
       "    </tr>\n",
       "    <tr>\n",
       "      <th>2</th>\n",
       "      <td>Chad Larson</td>\n",
       "      <td>1666373216381</td>\n",
       "      <td>He would have to prove he didn't cheat and tha...</td>\n",
       "      <td>Generic</td>\n",
       "      <td>False</td>\n",
       "      <td>False</td>\n",
       "      <td>NaN</td>\n",
       "      <td>NaN</td>\n",
       "      <td>NaN</td>\n",
       "      <td>NaN</td>\n",
       "    </tr>\n",
       "    <tr>\n",
       "      <th>3</th>\n",
       "      <td>Scott Pence</td>\n",
       "      <td>1666373164883</td>\n",
       "      <td>Yeah, no way. You over shoot and hope to get a...</td>\n",
       "      <td>Generic</td>\n",
       "      <td>False</td>\n",
       "      <td>False</td>\n",
       "      <td>NaN</td>\n",
       "      <td>NaN</td>\n",
       "      <td>NaN</td>\n",
       "      <td>NaN</td>\n",
       "    </tr>\n",
       "    <tr>\n",
       "      <th>4</th>\n",
       "      <td>Chad Larson</td>\n",
       "      <td>1666373111157</td>\n",
       "      <td>From what I see, I don't think he could win.  ...</td>\n",
       "      <td>Generic</td>\n",
       "      <td>False</td>\n",
       "      <td>False</td>\n",
       "      <td>NaN</td>\n",
       "      <td>NaN</td>\n",
       "      <td>NaN</td>\n",
       "      <td>NaN</td>\n",
       "    </tr>\n",
       "  </tbody>\n",
       "</table>\n",
       "</div>"
      ],
      "text/plain": [
       "    sender_name   timestamp_ms  \\\n",
       "0  Joanna Rusch  1666374933946   \n",
       "1   Chad Larson  1666373448613   \n",
       "2   Chad Larson  1666373216381   \n",
       "3   Scott Pence  1666373164883   \n",
       "4   Chad Larson  1666373111157   \n",
       "\n",
       "                                             content     type  is_unsent  \\\n",
       "0  Maybe he just wants to ride the publicity for ...  Generic      False   \n",
       "1  To be fair to Hans....no one wants to be assoc...  Generic      False   \n",
       "2  He would have to prove he didn't cheat and tha...  Generic      False   \n",
       "3  Yeah, no way. You over shoot and hope to get a...  Generic      False   \n",
       "4  From what I see, I don't think he could win.  ...  Generic      False   \n",
       "\n",
       "   is_taken_down share photos gifs users  \n",
       "0          False   NaN    NaN  NaN   NaN  \n",
       "1          False   NaN    NaN  NaN   NaN  \n",
       "2          False   NaN    NaN  NaN   NaN  \n",
       "3          False   NaN    NaN  NaN   NaN  \n",
       "4          False   NaN    NaN  NaN   NaN  "
      ]
     },
     "execution_count": 27,
     "metadata": {},
     "output_type": "execute_result"
    }
   ],
   "source": [
    "messages_df.head()"
   ]
  },
  {
   "cell_type": "markdown",
   "id": "ef557072-30bf-4886-a2c6-5b7369f8af01",
   "metadata": {},
   "source": [
    "I will now investigate the 'share' attribute to see if it can contain more than one value. As it turns out, if the value is not empty, it can contain a dictionary, and each dictionary only seems to contain one url. If it could contain more than one url, the dictionary would be contained within a list (encased by square brackets) so that multiple dictionaries could be included. Since that is not the case, I believe this technically counts as only being one value per cell, so I believe 'share' meets tidy data principles. "
   ]
  },
  {
   "cell_type": "code",
   "execution_count": 31,
   "id": "f1036552-54c8-4d39-89c6-13f479639f07",
   "metadata": {},
   "outputs": [
    {
     "data": {
      "text/plain": [
       "0                                                  NaN\n",
       "1                                                  NaN\n",
       "2                                                  NaN\n",
       "3                                                  NaN\n",
       "4                                                  NaN\n",
       "5    {'link': 'https://www.youtube.com/watch?v=EDvK...\n",
       "6                                                  NaN\n",
       "7                                                  NaN\n",
       "8                                                  NaN\n",
       "9                                                  NaN\n",
       "Name: share, dtype: object"
      ]
     },
     "execution_count": 31,
     "metadata": {},
     "output_type": "execute_result"
    }
   ],
   "source": [
    "messages_df['share'].iloc[0:10]"
   ]
  },
  {
   "cell_type": "code",
   "execution_count": 32,
   "id": "7eab8661-c5fd-49d6-b102-d548e3476ddc",
   "metadata": {},
   "outputs": [
    {
     "data": {
      "text/plain": [
       "{'link': 'https://www.youtube.com/watch?v=EDvK6i86EZ0'}"
      ]
     },
     "execution_count": 32,
     "metadata": {},
     "output_type": "execute_result"
    }
   ],
   "source": [
    "messages_df['share'][5]"
   ]
  },
  {
   "cell_type": "code",
   "execution_count": 33,
   "id": "cfa7253d-dae5-4d2b-adad-2c74d7c2d47a",
   "metadata": {},
   "outputs": [
    {
     "data": {
      "text/plain": [
       "11                                                  NaN\n",
       "12    {'link': 'https://new.chess24.com/wall/news/ne...\n",
       "13                   {'link': 'https://www.chess.com/'}\n",
       "14                                                  NaN\n",
       "15                                                  NaN\n",
       "16                   {'link': 'https://www.chess.com/'}\n",
       "17                                                  NaN\n",
       "18                                                  NaN\n",
       "19    {'link': 'https://www.youtube.com/watch?v=YktW...\n",
       "Name: share, dtype: object"
      ]
     },
     "execution_count": 33,
     "metadata": {},
     "output_type": "execute_result"
    }
   ],
   "source": [
    "messages_df['share'].iloc[11:20]"
   ]
  },
  {
   "cell_type": "markdown",
   "id": "b4915405-827b-4e3e-a590-b58fff679925",
   "metadata": {},
   "source": [
    "Next I will investigate the 'photos' attribute to see if it can contain more than one value per cell. I found that for values that are not empty, they contain a list that includes a dictionary with a 'uri' key and a 'creation_timestamp' key. "
   ]
  },
  {
   "cell_type": "code",
   "execution_count": 34,
   "id": "1feb74ca-5821-48bf-87ba-679a3241ff7e",
   "metadata": {},
   "outputs": [
    {
     "data": {
      "text/plain": [
       "0                                                  NaN\n",
       "1                                                  NaN\n",
       "2                                                  NaN\n",
       "3                                                  NaN\n",
       "4                                                  NaN\n",
       "5                                                  NaN\n",
       "6                                                  NaN\n",
       "7                                                  NaN\n",
       "8    [{'uri': 'messages/inbox/chessbuds_npjakt9u1g/...\n",
       "9    [{'uri': 'messages/inbox/chessbuds_npjakt9u1g/...\n",
       "Name: photos, dtype: object"
      ]
     },
     "execution_count": 34,
     "metadata": {},
     "output_type": "execute_result"
    }
   ],
   "source": [
    "messages_df['photos'].iloc[0:10]"
   ]
  },
  {
   "cell_type": "code",
   "execution_count": 35,
   "id": "d3dc8bf5-f2c1-4596-ad92-436ce3c2d04d",
   "metadata": {},
   "outputs": [
    {
     "data": {
      "text/plain": [
       "[{'uri': 'messages/inbox/chessbuds_npjakt9u1g/photos/312097852_642845703998797_5890449692529901285_n_642845700665464.png',\n",
       "  'creation_timestamp': 1666197228}]"
      ]
     },
     "execution_count": 35,
     "metadata": {},
     "output_type": "execute_result"
    }
   ],
   "source": [
    "messages_df['photos'][8]"
   ]
  },
  {
   "cell_type": "markdown",
   "id": "7480fe9a-deb0-47f9-8002-37892031caa6",
   "metadata": {},
   "source": [
    "I think it would make sense to pull the 'uri' and 'creation_timestamp' keys and make each their own column because then they would each contain only one value and meet tidy standards. However, I have run into the same issue where many of the 'photos' rows have empty values (NaN), so I think I will run into the same issue I had before with floats. And I did."
   ]
  },
  {
   "cell_type": "code",
   "execution_count": 38,
   "id": "286b098e-4f8b-442d-8942-a5a095ac2567",
   "metadata": {},
   "outputs": [
    {
     "ename": "TypeError",
     "evalue": "'float' object is not iterable",
     "output_type": "error",
     "traceback": [
      "\u001b[1;31m---------------------------------------------------------------------------\u001b[0m",
      "\u001b[1;31mTypeError\u001b[0m                                 Traceback (most recent call last)",
      "Cell \u001b[1;32mIn[38], line 1\u001b[0m\n\u001b[1;32m----> 1\u001b[0m [[y[\u001b[38;5;124m'\u001b[39m\u001b[38;5;124muri\u001b[39m\u001b[38;5;124m'\u001b[39m] \u001b[38;5;28;01mfor\u001b[39;00m y \u001b[38;5;129;01min\u001b[39;00m x] \u001b[38;5;28;01mfor\u001b[39;00m x \u001b[38;5;129;01min\u001b[39;00m messages_df[\u001b[38;5;124m'\u001b[39m\u001b[38;5;124mphotos\u001b[39m\u001b[38;5;124m'\u001b[39m]]\n",
      "\u001b[1;31mTypeError\u001b[0m: 'float' object is not iterable"
     ]
    }
   ],
   "source": [
    "[[y['uri'] for y in x] for x in messages_df['photos']]"
   ]
  },
  {
   "cell_type": "code",
   "execution_count": 39,
   "id": "18d77376-2516-4a5d-bd41-36da255c1f04",
   "metadata": {},
   "outputs": [
    {
     "ename": "TypeError",
     "evalue": "'float' object is not iterable",
     "output_type": "error",
     "traceback": [
      "\u001b[1;31m---------------------------------------------------------------------------\u001b[0m",
      "\u001b[1;31mTypeError\u001b[0m                                 Traceback (most recent call last)",
      "Cell \u001b[1;32mIn[39], line 1\u001b[0m\n\u001b[1;32m----> 1\u001b[0m [[y[\u001b[38;5;124m'\u001b[39m\u001b[38;5;124mcreation_timestamp\u001b[39m\u001b[38;5;124m'\u001b[39m] \u001b[38;5;28;01mfor\u001b[39;00m y \u001b[38;5;129;01min\u001b[39;00m x] \u001b[38;5;28;01mfor\u001b[39;00m x \u001b[38;5;129;01min\u001b[39;00m messages_df[\u001b[38;5;124m'\u001b[39m\u001b[38;5;124mphotos\u001b[39m\u001b[38;5;124m'\u001b[39m]]\n",
      "\u001b[1;31mTypeError\u001b[0m: 'float' object is not iterable"
     ]
    }
   ],
   "source": [
    "[[y['creation_timestamp'] for y in x] for x in messages_df['photos']]"
   ]
  },
  {
   "cell_type": "markdown",
   "id": "4a1a34dc-e10f-4146-b82d-998e48f31980",
   "metadata": {},
   "source": [
    "At this point I am wondering if there is something I can do about the NaN values throughout my DataFrame. I found DataFrame.fillna using the pandas documentation and wondered if that would help me. I used an example in [this page as a reference](https://en.wikipedia.org)."
   ]
  },
  {
   "cell_type": "code",
   "execution_count": 40,
   "id": "9cdb91b0-0419-4141-9990-5d2bb49a9e55",
   "metadata": {},
   "outputs": [
    {
     "data": {
      "text/html": [
       "<div>\n",
       "<style scoped>\n",
       "    .dataframe tbody tr th:only-of-type {\n",
       "        vertical-align: middle;\n",
       "    }\n",
       "\n",
       "    .dataframe tbody tr th {\n",
       "        vertical-align: top;\n",
       "    }\n",
       "\n",
       "    .dataframe thead th {\n",
       "        text-align: right;\n",
       "    }\n",
       "</style>\n",
       "<table border=\"1\" class=\"dataframe\">\n",
       "  <thead>\n",
       "    <tr style=\"text-align: right;\">\n",
       "      <th></th>\n",
       "      <th>sender_name</th>\n",
       "      <th>timestamp_ms</th>\n",
       "      <th>content</th>\n",
       "      <th>type</th>\n",
       "      <th>is_unsent</th>\n",
       "      <th>is_taken_down</th>\n",
       "      <th>share</th>\n",
       "      <th>photos</th>\n",
       "      <th>gifs</th>\n",
       "      <th>users</th>\n",
       "    </tr>\n",
       "  </thead>\n",
       "  <tbody>\n",
       "    <tr>\n",
       "      <th>0</th>\n",
       "      <td>Joanna Rusch</td>\n",
       "      <td>1666374933946</td>\n",
       "      <td>Maybe he just wants to ride the publicity for ...</td>\n",
       "      <td>Generic</td>\n",
       "      <td>False</td>\n",
       "      <td>False</td>\n",
       "      <td>NaN</td>\n",
       "      <td>{'uri': 'N/A', 'creation_timestamp': 'N/A'}</td>\n",
       "      <td>NaN</td>\n",
       "      <td>NaN</td>\n",
       "    </tr>\n",
       "    <tr>\n",
       "      <th>1</th>\n",
       "      <td>Chad Larson</td>\n",
       "      <td>1666373448613</td>\n",
       "      <td>To be fair to Hans....no one wants to be assoc...</td>\n",
       "      <td>Generic</td>\n",
       "      <td>False</td>\n",
       "      <td>False</td>\n",
       "      <td>NaN</td>\n",
       "      <td>{'uri': 'N/A', 'creation_timestamp': 'N/A'}</td>\n",
       "      <td>NaN</td>\n",
       "      <td>NaN</td>\n",
       "    </tr>\n",
       "    <tr>\n",
       "      <th>2</th>\n",
       "      <td>Chad Larson</td>\n",
       "      <td>1666373216381</td>\n",
       "      <td>He would have to prove he didn't cheat and tha...</td>\n",
       "      <td>Generic</td>\n",
       "      <td>False</td>\n",
       "      <td>False</td>\n",
       "      <td>NaN</td>\n",
       "      <td>{'uri': 'N/A', 'creation_timestamp': 'N/A'}</td>\n",
       "      <td>NaN</td>\n",
       "      <td>NaN</td>\n",
       "    </tr>\n",
       "    <tr>\n",
       "      <th>3</th>\n",
       "      <td>Scott Pence</td>\n",
       "      <td>1666373164883</td>\n",
       "      <td>Yeah, no way. You over shoot and hope to get a...</td>\n",
       "      <td>Generic</td>\n",
       "      <td>False</td>\n",
       "      <td>False</td>\n",
       "      <td>NaN</td>\n",
       "      <td>{'uri': 'N/A', 'creation_timestamp': 'N/A'}</td>\n",
       "      <td>NaN</td>\n",
       "      <td>NaN</td>\n",
       "    </tr>\n",
       "    <tr>\n",
       "      <th>4</th>\n",
       "      <td>Chad Larson</td>\n",
       "      <td>1666373111157</td>\n",
       "      <td>From what I see, I don't think he could win.  ...</td>\n",
       "      <td>Generic</td>\n",
       "      <td>False</td>\n",
       "      <td>False</td>\n",
       "      <td>NaN</td>\n",
       "      <td>{'uri': 'N/A', 'creation_timestamp': 'N/A'}</td>\n",
       "      <td>NaN</td>\n",
       "      <td>NaN</td>\n",
       "    </tr>\n",
       "  </tbody>\n",
       "</table>\n",
       "</div>"
      ],
      "text/plain": [
       "    sender_name   timestamp_ms  \\\n",
       "0  Joanna Rusch  1666374933946   \n",
       "1   Chad Larson  1666373448613   \n",
       "2   Chad Larson  1666373216381   \n",
       "3   Scott Pence  1666373164883   \n",
       "4   Chad Larson  1666373111157   \n",
       "\n",
       "                                             content     type  is_unsent  \\\n",
       "0  Maybe he just wants to ride the publicity for ...  Generic      False   \n",
       "1  To be fair to Hans....no one wants to be assoc...  Generic      False   \n",
       "2  He would have to prove he didn't cheat and tha...  Generic      False   \n",
       "3  Yeah, no way. You over shoot and hope to get a...  Generic      False   \n",
       "4  From what I see, I don't think he could win.  ...  Generic      False   \n",
       "\n",
       "   is_taken_down share                                       photos gifs users  \n",
       "0          False   NaN  {'uri': 'N/A', 'creation_timestamp': 'N/A'}  NaN   NaN  \n",
       "1          False   NaN  {'uri': 'N/A', 'creation_timestamp': 'N/A'}  NaN   NaN  \n",
       "2          False   NaN  {'uri': 'N/A', 'creation_timestamp': 'N/A'}  NaN   NaN  \n",
       "3          False   NaN  {'uri': 'N/A', 'creation_timestamp': 'N/A'}  NaN   NaN  \n",
       "4          False   NaN  {'uri': 'N/A', 'creation_timestamp': 'N/A'}  NaN   NaN  "
      ]
     },
     "execution_count": 40,
     "metadata": {},
     "output_type": "execute_result"
    }
   ],
   "source": [
    "values = {'photos': \"{'uri': 'N/A', 'creation_timestamp': 'N/A'}\"}\n",
    "messages_df.fillna(value=values).head()"
   ]
  },
  {
   "cell_type": "markdown",
   "id": "7dc58264-6741-44eb-9136-a0eb694b98a1",
   "metadata": {},
   "source": [
    "Based on the new DataFrame above, replacing the NaN values seems to have worked, but I do not know if doing so will now allow me to do what I want to do. Below I try again to pull the 'uri' and 'creation_timestamp' keys from 'photos.'"
   ]
  },
  {
   "cell_type": "code",
   "execution_count": 45,
   "id": "c0df7a56-be2b-4392-af63-7c388fd119f5",
   "metadata": {},
   "outputs": [
    {
     "ename": "TypeError",
     "evalue": "'float' object is not iterable",
     "output_type": "error",
     "traceback": [
      "\u001b[1;31m---------------------------------------------------------------------------\u001b[0m",
      "\u001b[1;31mTypeError\u001b[0m                                 Traceback (most recent call last)",
      "Cell \u001b[1;32mIn[45], line 1\u001b[0m\n\u001b[1;32m----> 1\u001b[0m [[y[\u001b[38;5;124m'\u001b[39m\u001b[38;5;124muri\u001b[39m\u001b[38;5;124m'\u001b[39m] \u001b[38;5;28;01mfor\u001b[39;00m y \u001b[38;5;129;01min\u001b[39;00m x] \u001b[38;5;28;01mfor\u001b[39;00m x \u001b[38;5;129;01min\u001b[39;00m messages_df[\u001b[38;5;124m'\u001b[39m\u001b[38;5;124mphotos\u001b[39m\u001b[38;5;124m'\u001b[39m]]\n",
      "\u001b[1;31mTypeError\u001b[0m: 'float' object is not iterable"
     ]
    }
   ],
   "source": [
    "[[y['uri'] for y in x] for x in messages_df['photos']]"
   ]
  },
  {
   "cell_type": "code",
   "execution_count": 46,
   "id": "50364b90-7623-4843-8965-627098a19e10",
   "metadata": {},
   "outputs": [
    {
     "ename": "TypeError",
     "evalue": "'float' object is not iterable",
     "output_type": "error",
     "traceback": [
      "\u001b[1;31m---------------------------------------------------------------------------\u001b[0m",
      "\u001b[1;31mTypeError\u001b[0m                                 Traceback (most recent call last)",
      "Cell \u001b[1;32mIn[46], line 1\u001b[0m\n\u001b[1;32m----> 1\u001b[0m [[y[\u001b[38;5;124m'\u001b[39m\u001b[38;5;124mcreation_timestamp\u001b[39m\u001b[38;5;124m'\u001b[39m] \u001b[38;5;28;01mfor\u001b[39;00m y \u001b[38;5;129;01min\u001b[39;00m x] \u001b[38;5;28;01mfor\u001b[39;00m x \u001b[38;5;129;01min\u001b[39;00m messages_df[\u001b[38;5;124m'\u001b[39m\u001b[38;5;124mphotos\u001b[39m\u001b[38;5;124m'\u001b[39m]]\n",
      "\u001b[1;31mTypeError\u001b[0m: 'float' object is not iterable"
     ]
    }
   ],
   "source": [
    "[[y['creation_timestamp'] for y in x] for x in messages_df['photos']]"
   ]
  },
  {
   "cell_type": "markdown",
   "id": "fafab256-1cf6-4ee3-86c6-2e817d7562e7",
   "metadata": {},
   "source": [
    "It sill did not work. Looking back it's probably because I passed a string to the NaN values in 'photos' so it does make sense that the 'uri' and 'creation_timestamp' within the string were not recognized. I tried again without passing it into a string."
   ]
  },
  {
   "cell_type": "code",
   "execution_count": 49,
   "id": "3e952397-79ca-4094-9454-8b3c9df9f767",
   "metadata": {},
   "outputs": [
    {
     "data": {
      "text/html": [
       "<div>\n",
       "<style scoped>\n",
       "    .dataframe tbody tr th:only-of-type {\n",
       "        vertical-align: middle;\n",
       "    }\n",
       "\n",
       "    .dataframe tbody tr th {\n",
       "        vertical-align: top;\n",
       "    }\n",
       "\n",
       "    .dataframe thead th {\n",
       "        text-align: right;\n",
       "    }\n",
       "</style>\n",
       "<table border=\"1\" class=\"dataframe\">\n",
       "  <thead>\n",
       "    <tr style=\"text-align: right;\">\n",
       "      <th></th>\n",
       "      <th>sender_name</th>\n",
       "      <th>timestamp_ms</th>\n",
       "      <th>content</th>\n",
       "      <th>type</th>\n",
       "      <th>is_unsent</th>\n",
       "      <th>is_taken_down</th>\n",
       "      <th>share</th>\n",
       "      <th>photos</th>\n",
       "      <th>gifs</th>\n",
       "      <th>users</th>\n",
       "    </tr>\n",
       "  </thead>\n",
       "  <tbody>\n",
       "    <tr>\n",
       "      <th>0</th>\n",
       "      <td>Joanna Rusch</td>\n",
       "      <td>1666374933946</td>\n",
       "      <td>Maybe he just wants to ride the publicity for ...</td>\n",
       "      <td>Generic</td>\n",
       "      <td>False</td>\n",
       "      <td>False</td>\n",
       "      <td>NaN</td>\n",
       "      <td>NaN</td>\n",
       "      <td>NaN</td>\n",
       "      <td>NaN</td>\n",
       "    </tr>\n",
       "    <tr>\n",
       "      <th>1</th>\n",
       "      <td>Chad Larson</td>\n",
       "      <td>1666373448613</td>\n",
       "      <td>To be fair to Hans....no one wants to be assoc...</td>\n",
       "      <td>Generic</td>\n",
       "      <td>False</td>\n",
       "      <td>False</td>\n",
       "      <td>NaN</td>\n",
       "      <td>NaN</td>\n",
       "      <td>NaN</td>\n",
       "      <td>NaN</td>\n",
       "    </tr>\n",
       "    <tr>\n",
       "      <th>2</th>\n",
       "      <td>Chad Larson</td>\n",
       "      <td>1666373216381</td>\n",
       "      <td>He would have to prove he didn't cheat and tha...</td>\n",
       "      <td>Generic</td>\n",
       "      <td>False</td>\n",
       "      <td>False</td>\n",
       "      <td>NaN</td>\n",
       "      <td>NaN</td>\n",
       "      <td>NaN</td>\n",
       "      <td>NaN</td>\n",
       "    </tr>\n",
       "    <tr>\n",
       "      <th>3</th>\n",
       "      <td>Scott Pence</td>\n",
       "      <td>1666373164883</td>\n",
       "      <td>Yeah, no way. You over shoot and hope to get a...</td>\n",
       "      <td>Generic</td>\n",
       "      <td>False</td>\n",
       "      <td>False</td>\n",
       "      <td>NaN</td>\n",
       "      <td>NaN</td>\n",
       "      <td>NaN</td>\n",
       "      <td>NaN</td>\n",
       "    </tr>\n",
       "    <tr>\n",
       "      <th>4</th>\n",
       "      <td>Chad Larson</td>\n",
       "      <td>1666373111157</td>\n",
       "      <td>From what I see, I don't think he could win.  ...</td>\n",
       "      <td>Generic</td>\n",
       "      <td>False</td>\n",
       "      <td>False</td>\n",
       "      <td>NaN</td>\n",
       "      <td>NaN</td>\n",
       "      <td>NaN</td>\n",
       "      <td>NaN</td>\n",
       "    </tr>\n",
       "  </tbody>\n",
       "</table>\n",
       "</div>"
      ],
      "text/plain": [
       "    sender_name   timestamp_ms  \\\n",
       "0  Joanna Rusch  1666374933946   \n",
       "1   Chad Larson  1666373448613   \n",
       "2   Chad Larson  1666373216381   \n",
       "3   Scott Pence  1666373164883   \n",
       "4   Chad Larson  1666373111157   \n",
       "\n",
       "                                             content     type  is_unsent  \\\n",
       "0  Maybe he just wants to ride the publicity for ...  Generic      False   \n",
       "1  To be fair to Hans....no one wants to be assoc...  Generic      False   \n",
       "2  He would have to prove he didn't cheat and tha...  Generic      False   \n",
       "3  Yeah, no way. You over shoot and hope to get a...  Generic      False   \n",
       "4  From what I see, I don't think he could win.  ...  Generic      False   \n",
       "\n",
       "   is_taken_down share photos gifs users  \n",
       "0          False   NaN    NaN  NaN   NaN  \n",
       "1          False   NaN    NaN  NaN   NaN  \n",
       "2          False   NaN    NaN  NaN   NaN  \n",
       "3          False   NaN    NaN  NaN   NaN  \n",
       "4          False   NaN    NaN  NaN   NaN  "
      ]
     },
     "execution_count": 49,
     "metadata": {},
     "output_type": "execute_result"
    }
   ],
   "source": [
    "values = {'photos': {'uri': 'N/A', 'creation_timestamp': 'N/A'}}\n",
    "messages_df.fillna(value=values).head()"
   ]
  },
  {
   "cell_type": "markdown",
   "id": "ba4c5eaf-40dc-4cdd-aab3-cb1167e225f8",
   "metadata": {},
   "source": [
    "However, it does not replace the NaN values if it is not in a string. It also might not have anything to do with the NaN values at all. I cannot think of how else I can solve this problem other than dropping 'photos' altogether like I have been with the other attributes I cannot figure out."
   ]
  },
  {
   "cell_type": "code",
   "execution_count": 50,
   "id": "e3dfdfc3-f655-429e-b4c1-9934b0658b6e",
   "metadata": {},
   "outputs": [],
   "source": [
    "messages_df.drop('photos', axis=1, inplace=True)"
   ]
  },
  {
   "cell_type": "code",
   "execution_count": 51,
   "id": "cae8d863-c94f-4b30-8f05-209991e801e2",
   "metadata": {},
   "outputs": [
    {
     "data": {
      "text/html": [
       "<div>\n",
       "<style scoped>\n",
       "    .dataframe tbody tr th:only-of-type {\n",
       "        vertical-align: middle;\n",
       "    }\n",
       "\n",
       "    .dataframe tbody tr th {\n",
       "        vertical-align: top;\n",
       "    }\n",
       "\n",
       "    .dataframe thead th {\n",
       "        text-align: right;\n",
       "    }\n",
       "</style>\n",
       "<table border=\"1\" class=\"dataframe\">\n",
       "  <thead>\n",
       "    <tr style=\"text-align: right;\">\n",
       "      <th></th>\n",
       "      <th>sender_name</th>\n",
       "      <th>timestamp_ms</th>\n",
       "      <th>content</th>\n",
       "      <th>type</th>\n",
       "      <th>is_unsent</th>\n",
       "      <th>is_taken_down</th>\n",
       "      <th>share</th>\n",
       "      <th>gifs</th>\n",
       "      <th>users</th>\n",
       "    </tr>\n",
       "  </thead>\n",
       "  <tbody>\n",
       "    <tr>\n",
       "      <th>0</th>\n",
       "      <td>Joanna Rusch</td>\n",
       "      <td>1666374933946</td>\n",
       "      <td>Maybe he just wants to ride the publicity for ...</td>\n",
       "      <td>Generic</td>\n",
       "      <td>False</td>\n",
       "      <td>False</td>\n",
       "      <td>NaN</td>\n",
       "      <td>NaN</td>\n",
       "      <td>NaN</td>\n",
       "    </tr>\n",
       "    <tr>\n",
       "      <th>1</th>\n",
       "      <td>Chad Larson</td>\n",
       "      <td>1666373448613</td>\n",
       "      <td>To be fair to Hans....no one wants to be assoc...</td>\n",
       "      <td>Generic</td>\n",
       "      <td>False</td>\n",
       "      <td>False</td>\n",
       "      <td>NaN</td>\n",
       "      <td>NaN</td>\n",
       "      <td>NaN</td>\n",
       "    </tr>\n",
       "    <tr>\n",
       "      <th>2</th>\n",
       "      <td>Chad Larson</td>\n",
       "      <td>1666373216381</td>\n",
       "      <td>He would have to prove he didn't cheat and tha...</td>\n",
       "      <td>Generic</td>\n",
       "      <td>False</td>\n",
       "      <td>False</td>\n",
       "      <td>NaN</td>\n",
       "      <td>NaN</td>\n",
       "      <td>NaN</td>\n",
       "    </tr>\n",
       "    <tr>\n",
       "      <th>3</th>\n",
       "      <td>Scott Pence</td>\n",
       "      <td>1666373164883</td>\n",
       "      <td>Yeah, no way. You over shoot and hope to get a...</td>\n",
       "      <td>Generic</td>\n",
       "      <td>False</td>\n",
       "      <td>False</td>\n",
       "      <td>NaN</td>\n",
       "      <td>NaN</td>\n",
       "      <td>NaN</td>\n",
       "    </tr>\n",
       "    <tr>\n",
       "      <th>4</th>\n",
       "      <td>Chad Larson</td>\n",
       "      <td>1666373111157</td>\n",
       "      <td>From what I see, I don't think he could win.  ...</td>\n",
       "      <td>Generic</td>\n",
       "      <td>False</td>\n",
       "      <td>False</td>\n",
       "      <td>NaN</td>\n",
       "      <td>NaN</td>\n",
       "      <td>NaN</td>\n",
       "    </tr>\n",
       "  </tbody>\n",
       "</table>\n",
       "</div>"
      ],
      "text/plain": [
       "    sender_name   timestamp_ms  \\\n",
       "0  Joanna Rusch  1666374933946   \n",
       "1   Chad Larson  1666373448613   \n",
       "2   Chad Larson  1666373216381   \n",
       "3   Scott Pence  1666373164883   \n",
       "4   Chad Larson  1666373111157   \n",
       "\n",
       "                                             content     type  is_unsent  \\\n",
       "0  Maybe he just wants to ride the publicity for ...  Generic      False   \n",
       "1  To be fair to Hans....no one wants to be assoc...  Generic      False   \n",
       "2  He would have to prove he didn't cheat and tha...  Generic      False   \n",
       "3  Yeah, no way. You over shoot and hope to get a...  Generic      False   \n",
       "4  From what I see, I don't think he could win.  ...  Generic      False   \n",
       "\n",
       "   is_taken_down share gifs users  \n",
       "0          False   NaN  NaN   NaN  \n",
       "1          False   NaN  NaN   NaN  \n",
       "2          False   NaN  NaN   NaN  \n",
       "3          False   NaN  NaN   NaN  \n",
       "4          False   NaN  NaN   NaN  "
      ]
     },
     "execution_count": 51,
     "metadata": {},
     "output_type": "execute_result"
    }
   ],
   "source": [
    "messages_df.head()"
   ]
  },
  {
   "cell_type": "markdown",
   "id": "1a83e996-5fdd-4505-b78c-a83c6ecc4cc8",
   "metadata": {},
   "source": [
    "Next I investigated both 'gifs' and 'users' to see if those can contain multiple values. "
   ]
  },
  {
   "cell_type": "code",
   "execution_count": 52,
   "id": "64e3b096-c122-42ff-be87-7a4987559a18",
   "metadata": {},
   "outputs": [
    {
     "data": {
      "text/plain": [
       "0                                                    NaN\n",
       "1                                                    NaN\n",
       "2                                                    NaN\n",
       "3                                                    NaN\n",
       "4                                                    NaN\n",
       "                             ...                        \n",
       "218                                                  NaN\n",
       "219    [{'uri': 'messages/inbox/chessbuds_npjakt9u1g/...\n",
       "220                                                  NaN\n",
       "221                                                  NaN\n",
       "222                                                  NaN\n",
       "Name: gifs, Length: 223, dtype: object"
      ]
     },
     "execution_count": 52,
     "metadata": {},
     "output_type": "execute_result"
    }
   ],
   "source": [
    "messages_df['gifs']"
   ]
  },
  {
   "cell_type": "code",
   "execution_count": 53,
   "id": "8a81b68d-8f62-4057-b5a3-c293ee7e0c0e",
   "metadata": {},
   "outputs": [
    {
     "data": {
      "text/plain": [
       "[{'uri': 'messages/inbox/chessbuds_npjakt9u1g/gifs/50203035_295326594670631_5010610380540477440_n_729120860993392.gif'}]"
      ]
     },
     "execution_count": 53,
     "metadata": {},
     "output_type": "execute_result"
    }
   ],
   "source": [
    "messages_df['gifs'][219]"
   ]
  },
  {
   "cell_type": "code",
   "execution_count": 58,
   "id": "2f0ae14c-35ad-4778-9dca-afe2a018385c",
   "metadata": {},
   "outputs": [
    {
     "data": {
      "text/plain": [
       "41                                                  NaN\n",
       "42                                                  NaN\n",
       "43    [{'uri': 'messages/inbox/chessbuds_npjakt9u1g/...\n",
       "44                                                  NaN\n",
       "45                                                  NaN\n",
       "46                                                  NaN\n",
       "47                                                  NaN\n",
       "48                                                  NaN\n",
       "49                                                  NaN\n",
       "Name: gifs, dtype: object"
      ]
     },
     "execution_count": 58,
     "metadata": {},
     "output_type": "execute_result"
    }
   ],
   "source": [
    "messages_df['gifs'].iloc[41:50]"
   ]
  },
  {
   "cell_type": "code",
   "execution_count": 59,
   "id": "626a487a-bde4-4014-a731-367ce805a667",
   "metadata": {},
   "outputs": [
    {
     "data": {
      "text/plain": [
       "[{'uri': 'messages/inbox/chessbuds_npjakt9u1g/gifs/271509378_440207271109794_8171423686120017391_n_1734383773606976.gif'}]"
      ]
     },
     "execution_count": 59,
     "metadata": {},
     "output_type": "execute_result"
    }
   ],
   "source": [
    "messages_df['gifs'][43]"
   ]
  },
  {
   "cell_type": "code",
   "execution_count": 60,
   "id": "545b6aea-453f-4b82-a5cf-218994b6bb0b",
   "metadata": {},
   "outputs": [
    {
     "data": {
      "text/plain": [
       "0                                     NaN\n",
       "1                                     NaN\n",
       "2                                     NaN\n",
       "3                                     NaN\n",
       "4                                     NaN\n",
       "                      ...                \n",
       "218                                   NaN\n",
       "219                                   NaN\n",
       "220    [{'name': 'Angela Babbitt Pence'}]\n",
       "221                                   NaN\n",
       "222                                   NaN\n",
       "Name: users, Length: 223, dtype: object"
      ]
     },
     "execution_count": 60,
     "metadata": {},
     "output_type": "execute_result"
    }
   ],
   "source": [
    "messages_df['users']"
   ]
  },
  {
   "cell_type": "code",
   "execution_count": 75,
   "id": "6c2b73c1-280e-4675-9fe8-5caeb1c72f15",
   "metadata": {},
   "outputs": [
    {
     "data": {
      "text/plain": [
       "141    [{'name': 'David Silva'}]\n",
       "142                          NaN\n",
       "143                          NaN\n",
       "144                          NaN\n",
       "145                          NaN\n",
       "146    [{'name': 'David Silva'}]\n",
       "147                          NaN\n",
       "148                          NaN\n",
       "149                          NaN\n",
       "Name: users, dtype: object"
      ]
     },
     "execution_count": 75,
     "metadata": {},
     "output_type": "execute_result"
    }
   ],
   "source": [
    "messages_df['users'].iloc[141:150]"
   ]
  },
  {
   "cell_type": "markdown",
   "id": "a5717a00-9db6-43cb-b7f4-16becf5e8555",
   "metadata": {},
   "source": [
    "So it seems both 'gifs' and 'users' contain lists, and within each list is a dictionary with only one element. However, because each dictionary is in a list I think that means both 'gifs' and 'users' have the ability to contain more than one dictionary (such as a message with more than one gif included) so I do not think these attributes count as tidy. However, I run into the same issue as before when trying to pull the keys out:"
   ]
  },
  {
   "cell_type": "code",
   "execution_count": 76,
   "id": "b0fea2b8-b83d-43f0-91f2-85564f2f1694",
   "metadata": {},
   "outputs": [
    {
     "ename": "TypeError",
     "evalue": "'float' object is not iterable",
     "output_type": "error",
     "traceback": [
      "\u001b[1;31m---------------------------------------------------------------------------\u001b[0m",
      "\u001b[1;31mTypeError\u001b[0m                                 Traceback (most recent call last)",
      "Cell \u001b[1;32mIn[76], line 1\u001b[0m\n\u001b[1;32m----> 1\u001b[0m [[y[\u001b[38;5;124m'\u001b[39m\u001b[38;5;124muri\u001b[39m\u001b[38;5;124m'\u001b[39m] \u001b[38;5;28;01mfor\u001b[39;00m y \u001b[38;5;129;01min\u001b[39;00m x] \u001b[38;5;28;01mfor\u001b[39;00m x \u001b[38;5;129;01min\u001b[39;00m messages_df[\u001b[38;5;124m'\u001b[39m\u001b[38;5;124mgifs\u001b[39m\u001b[38;5;124m'\u001b[39m]]\n",
      "\u001b[1;31mTypeError\u001b[0m: 'float' object is not iterable"
     ]
    }
   ],
   "source": [
    "[[y['uri'] for y in x] for x in messages_df['gifs']]"
   ]
  },
  {
   "cell_type": "code",
   "execution_count": 77,
   "id": "85bdb21d-12c1-40fe-a416-40d44ed6f437",
   "metadata": {},
   "outputs": [
    {
     "ename": "TypeError",
     "evalue": "'float' object is not iterable",
     "output_type": "error",
     "traceback": [
      "\u001b[1;31m---------------------------------------------------------------------------\u001b[0m",
      "\u001b[1;31mTypeError\u001b[0m                                 Traceback (most recent call last)",
      "Cell \u001b[1;32mIn[77], line 1\u001b[0m\n\u001b[1;32m----> 1\u001b[0m [[y[\u001b[38;5;124m'\u001b[39m\u001b[38;5;124mname\u001b[39m\u001b[38;5;124m'\u001b[39m] \u001b[38;5;28;01mfor\u001b[39;00m y \u001b[38;5;129;01min\u001b[39;00m x] \u001b[38;5;28;01mfor\u001b[39;00m x \u001b[38;5;129;01min\u001b[39;00m messages_df[\u001b[38;5;124m'\u001b[39m\u001b[38;5;124musers\u001b[39m\u001b[38;5;124m'\u001b[39m]]\n",
      "\u001b[1;31mTypeError\u001b[0m: 'float' object is not iterable"
     ]
    }
   ],
   "source": [
    "[[y['name'] for y in x] for x in messages_df['users']]"
   ]
  },
  {
   "cell_type": "markdown",
   "id": "ce6b70aa-13b5-45e5-ae72-99dd86a721b9",
   "metadata": {},
   "source": [
    "I am not sure what else to do other than drop these two attributes."
   ]
  },
  {
   "cell_type": "code",
   "execution_count": 78,
   "id": "e88c74a8-696d-4b2e-84e5-6a406c2f07bc",
   "metadata": {},
   "outputs": [],
   "source": [
    "messages_df.drop('gifs', axis=1, inplace=True)"
   ]
  },
  {
   "cell_type": "code",
   "execution_count": 79,
   "id": "3e23dc25-64f4-4435-a1e8-71adc6af27b0",
   "metadata": {},
   "outputs": [],
   "source": [
    "messages_df.drop('users', axis=1, inplace=True)"
   ]
  },
  {
   "cell_type": "markdown",
   "id": "fdf31d82-7074-4696-98a6-60d525acb2b0",
   "metadata": {},
   "source": [
    "### Final Tidy DataFrame"
   ]
  },
  {
   "cell_type": "markdown",
   "id": "7b66b17d-97d6-4bbe-839e-6c44a6ec4fb3",
   "metadata": {},
   "source": [
    "After investigating the structures of each piece of data in my DataFrame and trying to figure out how to tidy it, below is the first 5 rows of my final tidy DataFrame."
   ]
  },
  {
   "cell_type": "code",
   "execution_count": 80,
   "id": "73516129-3308-432a-954a-96ec5147c098",
   "metadata": {},
   "outputs": [
    {
     "data": {
      "text/html": [
       "<div>\n",
       "<style scoped>\n",
       "    .dataframe tbody tr th:only-of-type {\n",
       "        vertical-align: middle;\n",
       "    }\n",
       "\n",
       "    .dataframe tbody tr th {\n",
       "        vertical-align: top;\n",
       "    }\n",
       "\n",
       "    .dataframe thead th {\n",
       "        text-align: right;\n",
       "    }\n",
       "</style>\n",
       "<table border=\"1\" class=\"dataframe\">\n",
       "  <thead>\n",
       "    <tr style=\"text-align: right;\">\n",
       "      <th></th>\n",
       "      <th>sender_name</th>\n",
       "      <th>timestamp_ms</th>\n",
       "      <th>content</th>\n",
       "      <th>type</th>\n",
       "      <th>is_unsent</th>\n",
       "      <th>is_taken_down</th>\n",
       "      <th>share</th>\n",
       "    </tr>\n",
       "  </thead>\n",
       "  <tbody>\n",
       "    <tr>\n",
       "      <th>0</th>\n",
       "      <td>Joanna Rusch</td>\n",
       "      <td>1666374933946</td>\n",
       "      <td>Maybe he just wants to ride the publicity for ...</td>\n",
       "      <td>Generic</td>\n",
       "      <td>False</td>\n",
       "      <td>False</td>\n",
       "      <td>NaN</td>\n",
       "    </tr>\n",
       "    <tr>\n",
       "      <th>1</th>\n",
       "      <td>Chad Larson</td>\n",
       "      <td>1666373448613</td>\n",
       "      <td>To be fair to Hans....no one wants to be assoc...</td>\n",
       "      <td>Generic</td>\n",
       "      <td>False</td>\n",
       "      <td>False</td>\n",
       "      <td>NaN</td>\n",
       "    </tr>\n",
       "    <tr>\n",
       "      <th>2</th>\n",
       "      <td>Chad Larson</td>\n",
       "      <td>1666373216381</td>\n",
       "      <td>He would have to prove he didn't cheat and tha...</td>\n",
       "      <td>Generic</td>\n",
       "      <td>False</td>\n",
       "      <td>False</td>\n",
       "      <td>NaN</td>\n",
       "    </tr>\n",
       "    <tr>\n",
       "      <th>3</th>\n",
       "      <td>Scott Pence</td>\n",
       "      <td>1666373164883</td>\n",
       "      <td>Yeah, no way. You over shoot and hope to get a...</td>\n",
       "      <td>Generic</td>\n",
       "      <td>False</td>\n",
       "      <td>False</td>\n",
       "      <td>NaN</td>\n",
       "    </tr>\n",
       "    <tr>\n",
       "      <th>4</th>\n",
       "      <td>Chad Larson</td>\n",
       "      <td>1666373111157</td>\n",
       "      <td>From what I see, I don't think he could win.  ...</td>\n",
       "      <td>Generic</td>\n",
       "      <td>False</td>\n",
       "      <td>False</td>\n",
       "      <td>NaN</td>\n",
       "    </tr>\n",
       "  </tbody>\n",
       "</table>\n",
       "</div>"
      ],
      "text/plain": [
       "    sender_name   timestamp_ms  \\\n",
       "0  Joanna Rusch  1666374933946   \n",
       "1   Chad Larson  1666373448613   \n",
       "2   Chad Larson  1666373216381   \n",
       "3   Scott Pence  1666373164883   \n",
       "4   Chad Larson  1666373111157   \n",
       "\n",
       "                                             content     type  is_unsent  \\\n",
       "0  Maybe he just wants to ride the publicity for ...  Generic      False   \n",
       "1  To be fair to Hans....no one wants to be assoc...  Generic      False   \n",
       "2  He would have to prove he didn't cheat and tha...  Generic      False   \n",
       "3  Yeah, no way. You over shoot and hope to get a...  Generic      False   \n",
       "4  From what I see, I don't think he could win.  ...  Generic      False   \n",
       "\n",
       "   is_taken_down share  \n",
       "0          False   NaN  \n",
       "1          False   NaN  \n",
       "2          False   NaN  \n",
       "3          False   NaN  \n",
       "4          False   NaN  "
      ]
     },
     "execution_count": 80,
     "metadata": {},
     "output_type": "execute_result"
    }
   ],
   "source": [
    "messages_df.head()"
   ]
  },
  {
   "cell_type": "markdown",
   "id": "4794bf08-9618-48a3-9bb2-096a9982826b",
   "metadata": {},
   "source": [
    "In my new DataFrame, each row (observation) represents an individual message and each column represents a singluar variable/attribute of each message."
   ]
  },
  {
   "cell_type": "markdown",
   "id": "c1df63d7-206e-433b-990f-025f205dd7f2",
   "metadata": {},
   "source": [
    "My final DataFrame meets tidy data principles because each column is a variable, each row is an observation, and only one observational unit (messages) make up the entire DataFrame. However, I got to this DataFrame by dropping several variables of data, which I realize is not the best solution and is especially problematic if that is data I need for any hypothetical visualizations, because then the story would be incomplete. I am sure there is an alternative tidy DataFrame I could make where each attribute/variable is its own column without having to drop any data. I do believe I was on the right track with trying to pull out certain pieces of data ('uri,' 'creation_timestamp,' 'name,' etc.) from within their dictionaries using list comprehension and turning them into their own columns so their values are by themselves as per tidy standards; but as of now I do not know how to correctly execute those tasks while the data exists in its current structure.   "
   ]
  },
  {
   "cell_type": "markdown",
   "id": "a5e6eb37-03c2-4f67-8c30-fe550d2d132d",
   "metadata": {},
   "source": [
    "### Potential Visualization"
   ]
  },
  {
   "cell_type": "markdown",
   "id": "5944c6ab-74c8-4636-ab4c-8b92e8b358aa",
   "metadata": {},
   "source": [
    "In regard to potential visualizations, I think choosing an appropriate visualization would depend on what aspects of this data you want to communicate. I think it would be very difficult and probably confusing to try to to visually represent every single variable in the DataFrame in one single visualization, so I think it would be better to determine the most important insights from the data and choose an appropriate visualization(s) to represent those insights. \n",
    "\n",
    "The simplest type of visualization that I can think of right now would be a regular bar chart where the x-axis represents each participant's name (from the 'sender_name' variable) and the y-axis is number of messages, so the height of each person's bar represents how many messages in the DataFrame were sent by them. This would tell you who is more or less active compared to the other participants, but that is really all. \n",
    "\n",
    "I am also thinking of a visualization concept kind of like a scatter plot where each message in the DataFrame is represented by a dot that could be hovered over to reveal the message's text (from the 'conent' variable) because I cannot think of an easier way to show that variable since many messages have long text. The dots would be organized across the x-axis by each particpant's name, similar to the bar chart idea above, and color coded based on the 'type' variable that the user could filter (toggle certain types on and off). This would allow someone to explore each message individually by participant and message type. I do not know what the y-axis would be in this visualization. I don't think the 'timestamp_ms' variable makes sense for the y-axis because each message would have a different value (unless two messages were sent at the exact same millisecond, which is not impossible but is very unlikely) so I think that would make for a very busy y-axis or one where it is very hard to determine where each dot lines up with its y-value. I suppose there doesn't need to be a y-axis. This is a concept where I would want to explore different options to see what makes sense, looks good, and conveys the message I want."
   ]
  }
 ],
 "metadata": {
  "kernelspec": {
   "display_name": "Python 3 (ipykernel)",
   "language": "python",
   "name": "python3"
  },
  "language_info": {
   "codemirror_mode": {
    "name": "ipython",
    "version": 3
   },
   "file_extension": ".py",
   "mimetype": "text/x-python",
   "name": "python",
   "nbconvert_exporter": "python",
   "pygments_lexer": "ipython3",
   "version": "3.12.8"
  }
 },
 "nbformat": 4,
 "nbformat_minor": 5
}
